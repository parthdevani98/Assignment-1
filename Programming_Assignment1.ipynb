{
 "cells": [
  {
   "cell_type": "markdown",
   "id": "cea0f3ca",
   "metadata": {},
   "source": [
    "### 1. Write a Python program to print &quot;Hello Python&quot;?"
   ]
  },
  {
   "cell_type": "code",
   "execution_count": 1,
   "id": "495e061e",
   "metadata": {},
   "outputs": [
    {
     "name": "stdout",
     "output_type": "stream",
     "text": [
      "Hello Python\n"
     ]
    }
   ],
   "source": [
    "print(\"Hello Python\")"
   ]
  },
  {
   "cell_type": "markdown",
   "id": "fcf6c5e2",
   "metadata": {},
   "source": [
    "### 2. Write a Python program to do arithmetical operations addition and division.?"
   ]
  },
  {
   "cell_type": "code",
   "execution_count": 5,
   "id": "e2f3a527",
   "metadata": {},
   "outputs": [
    {
     "name": "stdout",
     "output_type": "stream",
     "text": [
      "Enter Num110\n",
      "Enter Num220\n",
      "Addition = 30, Division = 0.5\n"
     ]
    }
   ],
   "source": [
    "Num1 = int(input(\"Enter Num1\"))\n",
    "Num2 = int(input(\"Enter Num2\"))\n",
    "\n",
    "Addition = Num1 + Num2\n",
    "Division = Num1/Num2\n",
    "\n",
    "print(f\"Addition = {Addition}, Division = {Division}\")"
   ]
  },
  {
   "cell_type": "markdown",
   "id": "e604a967",
   "metadata": {},
   "source": [
    "### 3. Write a Python program to find the area of a triangle?"
   ]
  },
  {
   "cell_type": "code",
   "execution_count": 9,
   "id": "3662458f",
   "metadata": {},
   "outputs": [
    {
     "name": "stdout",
     "output_type": "stream",
     "text": [
      "Enter the breadth of triangle10\n",
      "Enter the height of triangle20\n",
      "Area of Triangle is 100.0.\n"
     ]
    }
   ],
   "source": [
    "Breadth = int(input(\"Enter the breadth of triangle\"))\n",
    "Height  = int(input(\"Enter the height of triangle\"))\n",
    "\n",
    "Area_Triangle = (Breadth*Height)/2\n",
    "\n",
    "print(f\"Area of Triangle is {Area_Triangle}.\")"
   ]
  },
  {
   "cell_type": "markdown",
   "id": "d052e674",
   "metadata": {},
   "source": [
    "### 4. Write a Python program to swap two variables?"
   ]
  },
  {
   "cell_type": "code",
   "execution_count": 13,
   "id": "57517755",
   "metadata": {},
   "outputs": [
    {
     "name": "stdout",
     "output_type": "stream",
     "text": [
      "Enter the Var1 10\n",
      "Enter the Var2 20\n",
      "var1 = 20, var2 = 10.\n"
     ]
    }
   ],
   "source": [
    "var1 = int(input(\"Enter the Var1 \"))\n",
    "var2 = int(input(\"Enter the Var2 \"))\n",
    "\n",
    "temp = var1\n",
    "var1 = var2\n",
    "var2 = temp\n",
    "\n",
    "print(f\"var1 = {var1}, var2 = {var2}.\")\n"
   ]
  },
  {
   "cell_type": "markdown",
   "id": "e3d7d874",
   "metadata": {},
   "source": [
    "### 5. Write a Python program to generate a random number?"
   ]
  },
  {
   "cell_type": "code",
   "execution_count": 19,
   "id": "c6a662cd",
   "metadata": {},
   "outputs": [
    {
     "name": "stdout",
     "output_type": "stream",
     "text": [
      "16\n"
     ]
    }
   ],
   "source": [
    "import random\n",
    "\n",
    "print(random.randint(0,20))"
   ]
  }
 ],
 "metadata": {
  "kernelspec": {
   "display_name": "Python 3 (ipykernel)",
   "language": "python",
   "name": "python3"
  },
  "language_info": {
   "codemirror_mode": {
    "name": "ipython",
    "version": 3
   },
   "file_extension": ".py",
   "mimetype": "text/x-python",
   "name": "python",
   "nbconvert_exporter": "python",
   "pygments_lexer": "ipython3",
   "version": "3.10.6"
  }
 },
 "nbformat": 4,
 "nbformat_minor": 5
}
