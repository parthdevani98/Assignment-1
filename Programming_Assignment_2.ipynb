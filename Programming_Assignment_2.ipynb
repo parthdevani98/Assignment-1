{
 "cells": [
  {
   "cell_type": "markdown",
   "id": "81657dff",
   "metadata": {},
   "source": [
    "### 1. Write a Python program to convert kilometers to miles?"
   ]
  },
  {
   "cell_type": "code",
   "execution_count": 2,
   "id": "f586859f",
   "metadata": {},
   "outputs": [
    {
     "name": "stdout",
     "output_type": "stream",
     "text": [
      "Enter value in kilometers :- 4.5\n",
      "4.50 kilometers is equal to 2.80 miles\n"
     ]
    }
   ],
   "source": [
    "kilometers = float(input(\"Enter value in kilometers :- \"))\n",
    "\n",
    "conv_fac = 0.621371\n",
    "\n",
    "miles = kilometers * conv_fac\n",
    "print('%0.2f kilometers is equal to %0.2f miles' %(kilometers,miles))"
   ]
  },
  {
   "cell_type": "markdown",
   "id": "bdec7d2e",
   "metadata": {},
   "source": [
    "### 2. Write a Python program to convert Celsius to Fahrenheit?"
   ]
  },
  {
   "cell_type": "code",
   "execution_count": 8,
   "id": "06c3c7e8",
   "metadata": {},
   "outputs": [
    {
     "name": "stdout",
     "output_type": "stream",
     "text": [
      "Enter the celsius Value : 37.5\n",
      "37.5 degree Celsius is equal to 99.5 degree Fahrenheit\n"
     ]
    }
   ],
   "source": [
    "#fahrenheit = celsius * 1.8 + 32\n",
    "\n",
    "celsius = float(input(\"Enter the celsius Value : \"))\n",
    "\n",
    "Fahrenheit = (celsius * 1.8) + 32\n",
    "\n",
    "print('%0.1f degree Celsius is equal to %0.1f degree Fahrenheit' %(celsius,Fahrenheit))"
   ]
  },
  {
   "cell_type": "markdown",
   "id": "bd76a09a",
   "metadata": {},
   "source": [
    "### 3. Write a Python program to display calendar?"
   ]
  },
  {
   "cell_type": "code",
   "execution_count": 13,
   "id": "bf6753c3",
   "metadata": {},
   "outputs": [
    {
     "name": "stdout",
     "output_type": "stream",
     "text": [
      "Enter the Year 2022\n",
      "Enter the month 12\n",
      "   December 2022\n",
      "Mo Tu We Th Fr Sa Su\n",
      "          1  2  3  4\n",
      " 5  6  7  8  9 10 11\n",
      "12 13 14 15 16 17 18\n",
      "19 20 21 22 23 24 25\n",
      "26 27 28 29 30 31\n",
      "\n"
     ]
    }
   ],
   "source": [
    "import calendar\n",
    "\n",
    "year = int(input(\"Enter the Year \"))\n",
    "month = int(input(\"Enter the month \"))\n",
    "\n",
    "print(calendar.month(year, month))"
   ]
  },
  {
   "cell_type": "markdown",
   "id": "65f6546f",
   "metadata": {},
   "source": [
    "### 4. Write a Python program to solve quadratic equation?"
   ]
  },
  {
   "cell_type": "code",
   "execution_count": 15,
   "id": "01f1153e",
   "metadata": {},
   "outputs": [
    {
     "name": "stdout",
     "output_type": "stream",
     "text": [
      "Entert the value for a : 1\n",
      "Enter the value for b : 5\n",
      "Enter the value for c : 6\n",
      "The Solutions are (-3+0j) and (-2+0j).\n"
     ]
    }
   ],
   "source": [
    "import cmath\n",
    "\n",
    "a = int(input(\"Entert the value for a : \"))\n",
    "b = int(input(\"Enter the value for b : \"))\n",
    "c = int(input(\"Enter the value for c : \"))\n",
    "\n",
    "\n",
    "d = (b**2) - (4*a*c)\n",
    "\n",
    "\n",
    "sol1 = (-b-cmath.sqrt(d))/(2*a)\n",
    "sol2 = (-b+cmath.sqrt(d))/(2*a)\n",
    "\n",
    "print(f\"The Solutions are {sol1} and {sol2}.\")"
   ]
  },
  {
   "cell_type": "markdown",
   "id": "116e9e54",
   "metadata": {},
   "source": [
    "### 5.Write a Python program to swap two variables without temp variable?"
   ]
  },
  {
   "cell_type": "code",
   "execution_count": 16,
   "id": "9b20be0d",
   "metadata": {},
   "outputs": [
    {
     "name": "stdout",
     "output_type": "stream",
     "text": [
      "Enter the number10\n",
      "Enter the number20\n",
      "After swapping, value for x , y is = 20 , 10.\n"
     ]
    }
   ],
   "source": [
    "x = int(input(\"Enter the number\"))\n",
    "y = int(input(\"Enter the number\"))\n",
    "\n",
    "x = x + y \n",
    "y = x - y\n",
    "x = x - y\n",
    "\n",
    "print(f\"After swapping, value for x , y is = {x} , {y}.\")"
   ]
  }
 ],
 "metadata": {
  "kernelspec": {
   "display_name": "Python 3 (ipykernel)",
   "language": "python",
   "name": "python3"
  },
  "language_info": {
   "codemirror_mode": {
    "name": "ipython",
    "version": 3
   },
   "file_extension": ".py",
   "mimetype": "text/x-python",
   "name": "python",
   "nbconvert_exporter": "python",
   "pygments_lexer": "ipython3",
   "version": "3.10.6"
  }
 },
 "nbformat": 4,
 "nbformat_minor": 5
}
