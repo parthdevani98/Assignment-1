{
 "cells": [
  {
   "cell_type": "markdown",
   "id": "0f62f73c",
   "metadata": {},
   "source": [
    "### 1. Write a Python Program to Find the Factorial of a Number?"
   ]
  },
  {
   "cell_type": "code",
   "execution_count": 3,
   "id": "1fd27618",
   "metadata": {},
   "outputs": [
    {
     "name": "stdout",
     "output_type": "stream",
     "text": [
      "Enter the Number4\n",
      "Factorial of 4 is = 24.\n"
     ]
    }
   ],
   "source": [
    "Number = int(input(\"Enter the Number\"))\n",
    "\n",
    "Factorial = 1\n",
    "\n",
    "if Number < 0 :\n",
    "    print(\"Factorial is not positive for negative numbers\")\n",
    "elif Number == 0 :\n",
    "    print(\"Factorial for O is 1 \")\n",
    "else:\n",
    "    for i in range(1, Number + 1):\n",
    "        Factorial = Factorial * i\n",
    "    print(f\"Factorial of {Number} is = {Factorial}.\")"
   ]
  },
  {
   "cell_type": "markdown",
   "id": "358eea7a",
   "metadata": {},
   "source": [
    "### 2. Write a Python Program to Display the multiplication Table?"
   ]
  },
  {
   "cell_type": "code",
   "execution_count": 9,
   "id": "8ca10acd",
   "metadata": {},
   "outputs": [
    {
     "name": "stdout",
     "output_type": "stream",
     "text": [
      "Enter the number11\n",
      "11 x 1 = 11\n",
      "11 x 2 = 22\n",
      "11 x 3 = 33\n",
      "11 x 4 = 44\n",
      "11 x 5 = 55\n",
      "11 x 6 = 66\n",
      "11 x 7 = 77\n",
      "11 x 8 = 88\n",
      "11 x 9 = 99\n",
      "11 x 10 = 110\n"
     ]
    }
   ],
   "source": [
    "Number = int(input(\"Enter the number\"))\n",
    "\n",
    "for i in range(1, 11):\n",
    "    print(Number, 'x', i, '=', Number * i)\n"
   ]
  },
  {
   "cell_type": "markdown",
   "id": "6c80d2e8",
   "metadata": {},
   "source": [
    "### 3. Write a Python Program to Print the Fibonacci sequence?"
   ]
  },
  {
   "cell_type": "code",
   "execution_count": 14,
   "id": "86e19024",
   "metadata": {},
   "outputs": [
    {
     "name": "stdout",
     "output_type": "stream",
     "text": [
      "Enter the Nth value 10\n",
      "Fibonacci Sequence : \n",
      "0\n",
      "1\n",
      "1\n",
      "2\n",
      "3\n",
      "5\n",
      "8\n",
      "13\n",
      "21\n",
      "34\n"
     ]
    }
   ],
   "source": [
    "Nth_Value = int(input(\"Enter the Nth value \"))\n",
    "\n",
    "N1, N2 = 0, 1\n",
    "count = 0\n",
    "\n",
    "if Nth_Value <= 0:\n",
    "    print(\"Enter the Positive Nth Value\")\n",
    "elif Nth_Value == 1:\n",
    "    print(\"Fibonacci sequence upto\",Nth_Value, ':')\n",
    "    print(N1)\n",
    "else:\n",
    "    print(\"Fibonacci Sequence : \")\n",
    "    while count < Nth_Value :\n",
    "        print(N1)\n",
    "        Nth = N1 + N2\n",
    "        \n",
    "        N1 = N2\n",
    "        N2 = Nth\n",
    "        count += 1"
   ]
  },
  {
   "cell_type": "markdown",
   "id": "81ad0824",
   "metadata": {},
   "source": [
    "### 4. Write a Python Program to Check Armstrong Number?"
   ]
  },
  {
   "cell_type": "code",
   "execution_count": 20,
   "id": "41a72d17",
   "metadata": {},
   "outputs": [
    {
     "name": "stdout",
     "output_type": "stream",
     "text": [
      "Enter a number: 9474\n",
      "9474 is an Armstrong number\n"
     ]
    }
   ],
   "source": [
    "num = int(input(\"Enter a number: \"))\n",
    "\n",
    "sum = 0\n",
    "\n",
    "order = len(str(num))\n",
    "\n",
    "temp = num\n",
    "while temp > 0:\n",
    "    digit = temp % 10\n",
    "    sum += digit ** order\n",
    "    temp //= 10\n",
    "\n",
    "\n",
    "if num == sum:\n",
    "    print(num,\"is an Armstrong number\")\n",
    "else:\n",
    "    print(num,\"is not an Armstrong number\")\n"
   ]
  },
  {
   "cell_type": "markdown",
   "id": "73e556b6",
   "metadata": {},
   "source": [
    "### 5. Write a Python Program to Find Armstrong Number in an Interval?"
   ]
  },
  {
   "cell_type": "code",
   "execution_count": 25,
   "id": "fa865dda",
   "metadata": {},
   "outputs": [
    {
     "name": "stdout",
     "output_type": "stream",
     "text": [
      "Enter the Lower Value 100\n",
      "Enter the Upper Value 2000\n",
      "153\n",
      "370\n",
      "371\n",
      "407\n",
      "1634\n"
     ]
    }
   ],
   "source": [
    "lower = int(input(\"Enter the Lower Value \"))\n",
    "upper = int(input(\"Enter the Upper Value \"))\n",
    "\n",
    "for num in range(lower, upper + 1):\n",
    "    order = len(str(num))\n",
    "    sum = 0\n",
    "            \n",
    "    temp = num\n",
    "    while temp > 0:\n",
    "        digit = temp % 10\n",
    "        sum += digit ** order\n",
    "        temp //= 10\n",
    "\n",
    "    if num == sum:\n",
    "        print(num)\n"
   ]
  },
  {
   "cell_type": "markdown",
   "id": "53a9a1af",
   "metadata": {},
   "source": [
    "### 6. Write a Python Program to Find the Sum of Natural Numbers?"
   ]
  },
  {
   "cell_type": "code",
   "execution_count": 28,
   "id": "f5717e73",
   "metadata": {},
   "outputs": [
    {
     "name": "stdout",
     "output_type": "stream",
     "text": [
      "Enter the Number : 10\n",
      "The sum is 55\n"
     ]
    }
   ],
   "source": [
    "N = int(input(\"Enter the Number : \"))\n",
    "\n",
    "if N < 0:\n",
    "    print(\"Enter a positive number\")\n",
    "else:\n",
    "    sum = 0\n",
    "    while(N > 0):\n",
    "        sum += N\n",
    "        N -= 1\n",
    "    print(\"The sum is\", sum)\n"
   ]
  }
 ],
 "metadata": {
  "kernelspec": {
   "display_name": "Python 3 (ipykernel)",
   "language": "python",
   "name": "python3"
  },
  "language_info": {
   "codemirror_mode": {
    "name": "ipython",
    "version": 3
   },
   "file_extension": ".py",
   "mimetype": "text/x-python",
   "name": "python",
   "nbconvert_exporter": "python",
   "pygments_lexer": "ipython3",
   "version": "3.9.13"
  }
 },
 "nbformat": 4,
 "nbformat_minor": 5
}
