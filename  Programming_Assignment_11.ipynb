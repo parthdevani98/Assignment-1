{
 "cells": [
  {
   "cell_type": "markdown",
   "id": "498bea4c",
   "metadata": {},
   "source": [
    "# 1. Write a Python program to find words which are greater than given length k?"
   ]
  },
  {
   "cell_type": "code",
   "execution_count": 1,
   "id": "cb3c4034",
   "metadata": {},
   "outputs": [
    {
     "name": "stdout",
     "output_type": "stream",
     "text": [
      "Words greater than length 5: ['banana', 'orange', 'watermelon']\n"
     ]
    }
   ],
   "source": [
    "def find_words_greater_than_length(words : list, k : int) -> str:\n",
    "    result = []\n",
    "    for word in words:\n",
    "        if len(word) > k:\n",
    "            result.append(word)\n",
    "    return result\n",
    "\n",
    "\n",
    "word_list = [\"apple\", \"banana\", \"grape\", \"orange\", \"watermelon\"]\n",
    "length_k = 5\n",
    "words_greater_than_k = find_words_greater_than_length(word_list, length_k)\n",
    "print(f\"Words greater than length {length_k}: {words_greater_than_k}\")"
   ]
  },
  {
   "cell_type": "markdown",
   "id": "0fcc7463",
   "metadata": {},
   "source": [
    "# 2. Write a Python program for removing i-th character from a string?"
   ]
  },
  {
   "cell_type": "code",
   "execution_count": 2,
   "id": "8fbdf999",
   "metadata": {},
   "outputs": [
    {
     "name": "stdout",
     "output_type": "stream",
     "text": [
      "String after removing character at index 7: Hello, orld!\n"
     ]
    }
   ],
   "source": [
    "def remove_ith_character(string : str, i : int) -> str:\n",
    "    if i < 0 or i >= len(string):\n",
    "        return string\n",
    "    return string[:i] + string[i+1:]\n",
    "\n",
    "\n",
    "my_string = \"Hello, World!\"\n",
    "index = 7\n",
    "new_string = remove_ith_character(my_string, index)\n",
    "print(f\"String after removing character at index {index}: {new_string}\")"
   ]
  },
  {
   "cell_type": "markdown",
   "id": "ed88efc2",
   "metadata": {},
   "source": [
    "# 3. Write a Python program to split and join a string?"
   ]
  },
  {
   "cell_type": "code",
   "execution_count": 3,
   "id": "bb4c75f0",
   "metadata": {},
   "outputs": [
    {
     "name": "stdout",
     "output_type": "stream",
     "text": [
      "String after splitting and joining: Hello World How Are You?\n"
     ]
    }
   ],
   "source": [
    "def split_and_join(string, separator):\n",
    "    split_list = string.split(separator)\n",
    "    joined_string = ' '.join(split_list)\n",
    "    return joined_string\n",
    "\n",
    "\n",
    "my_string = \"Hello,World,How,Are,You?\"\n",
    "separator = \",\"\n",
    "split_and_joined_string = split_and_join(my_string, separator)\n",
    "print(\"String after splitting and joining:\", split_and_joined_string)"
   ]
  },
  {
   "cell_type": "markdown",
   "id": "1a531496",
   "metadata": {},
   "source": [
    "# 4. Write a Python to check if a given string is binary string or not?"
   ]
  },
  {
   "cell_type": "code",
   "execution_count": 5,
   "id": "fe9fed4b",
   "metadata": {},
   "outputs": [
    {
     "name": "stdout",
     "output_type": "stream",
     "text": [
      "The string is not a binary string.\n"
     ]
    }
   ],
   "source": [
    "def is_binary_string(string):\n",
    "    for char in string:\n",
    "        if char != '0' and char != '1':\n",
    "            return False\n",
    "    return True\n",
    "\n",
    "\n",
    "my_string = \"PARTH\"\n",
    "is_binary = is_binary_string(my_string)\n",
    "if is_binary:\n",
    "    print(\"The string is a binary string.\")\n",
    "else:\n",
    "    print(\"The string is not a binary string.\")"
   ]
  },
  {
   "cell_type": "markdown",
   "id": "ca4c3646",
   "metadata": {},
   "source": [
    "# 5. Write a Python program to find uncommon words from two Strings?"
   ]
  },
  {
   "cell_type": "code",
   "execution_count": 6,
   "id": "052988c4",
   "metadata": {},
   "outputs": [
    {
     "name": "stdout",
     "output_type": "stream",
     "text": [
      "Uncommon words: ['world', 'are', 'you?', 'universe', 'is', 'it', 'going?']\n"
     ]
    }
   ],
   "source": [
    "def find_uncommon_words(string1, string2):\n",
    "    words1 = string1.split()\n",
    "    words2 = string2.split()\n",
    "\n",
    "    uncommon_words = []\n",
    "\n",
    "    for word in words1:\n",
    "        if word not in words2:\n",
    "            uncommon_words.append(word)\n",
    "\n",
    "    for word in words2:\n",
    "        if word not in words1:\n",
    "            uncommon_words.append(word)\n",
    "\n",
    "    return uncommon_words\n",
    "\n",
    "string1 = \"Hello world how are you?\"\n",
    "string2 = \"Hello universe how is it going?\"\n",
    "uncommon = find_uncommon_words(string1, string2)\n",
    "print(\"Uncommon words:\", uncommon)"
   ]
  },
  {
   "cell_type": "markdown",
   "id": "4d27de72",
   "metadata": {},
   "source": [
    "# 6. Write a Python program to find all duplicate characters in string?"
   ]
  },
  {
   "cell_type": "code",
   "execution_count": 7,
   "id": "ebf2a77b",
   "metadata": {},
   "outputs": [
    {
     "name": "stdout",
     "output_type": "stream",
     "text": [
      "Duplicate characters: ['l', 'o']\n"
     ]
    }
   ],
   "source": [
    "def find_duplicate_characters(string):\n",
    "    duplicate_chars = []\n",
    "    char_count = {}\n",
    "\n",
    "    for char in string:\n",
    "        if char in char_count:\n",
    "            char_count[char] += 1\n",
    "        else:\n",
    "            char_count[char] = 1\n",
    "\n",
    "    for char, count in char_count.items():\n",
    "        if count > 1:\n",
    "            duplicate_chars.append(char)\n",
    "\n",
    "    return duplicate_chars\n",
    "\n",
    "\n",
    "my_string = \"Hello, World!\"\n",
    "duplicates = find_duplicate_characters(my_string)\n",
    "print(\"Duplicate characters:\", duplicates)"
   ]
  },
  {
   "cell_type": "markdown",
   "id": "3a04dd55",
   "metadata": {},
   "source": [
    "# 7. Write a Python Program to check if a string contains any special character?"
   ]
  },
  {
   "cell_type": "code",
   "execution_count": 15,
   "id": "2b8f4125",
   "metadata": {},
   "outputs": [
    {
     "name": "stdout",
     "output_type": "stream",
     "text": [
      "The string contains special characters.\n"
     ]
    }
   ],
   "source": [
    "import re\n",
    "\n",
    "def has_special_character(string):\n",
    "    special_char_regex = re.compile('[@_!#$%^&*()<>?/\\|}{~:]')\n",
    "    if special_char_regex.search(string) is not None:\n",
    "        return True\n",
    "    return False\n",
    "\n",
    "my_string = \"Hello How @re you\"\n",
    "contains_special_char = has_special_character(my_string)\n",
    "if contains_special_char:\n",
    "    print(\"The string contains special characters.\")\n",
    "else:\n",
    "    print(\"The string does not contain any special characters.\")"
   ]
  }
 ],
 "metadata": {
  "kernelspec": {
   "display_name": "Python 3 (ipykernel)",
   "language": "python",
   "name": "python3"
  },
  "language_info": {
   "codemirror_mode": {
    "name": "ipython",
    "version": 3
   },
   "file_extension": ".py",
   "mimetype": "text/x-python",
   "name": "python",
   "nbconvert_exporter": "python",
   "pygments_lexer": "ipython3",
   "version": "3.9.13"
  }
 },
 "nbformat": 4,
 "nbformat_minor": 5
}
