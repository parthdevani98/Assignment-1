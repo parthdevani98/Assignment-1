{
 "cells": [
  {
   "cell_type": "markdown",
   "id": "7409cc83",
   "metadata": {},
   "source": [
    "# 1. Write a Python program to check if the given number is a Disarium Number?"
   ]
  },
  {
   "cell_type": "code",
   "execution_count": 6,
   "id": "e2e19a2c",
   "metadata": {},
   "outputs": [
    {
     "name": "stdout",
     "output_type": "stream",
     "text": [
      "Enter the number : 135\n",
      "Disarium Number\n"
     ]
    }
   ],
   "source": [
    "import math\n",
    "\n",
    "def Disarium(n : int) -> int :\n",
    "    \n",
    "    \"\"\" This function checks the number is disarium or not \"\"\"\n",
    "    \n",
    "    count_digits = len(str(n))\n",
    "    sum = 0\n",
    "    x = n\n",
    "    while (x != 0) :\n",
    "        r = x % 10\n",
    "        \n",
    "        sum = (int)(sum + math.pow(r, count_digits))\n",
    "        count_digits = count_digits - 1\n",
    "        x = x//10\n",
    "    if sum == n :\n",
    "        return 1\n",
    "    else :\n",
    "        return 0\n",
    "        \n",
    "                      \n",
    "    \n",
    "\n",
    "number = int(input(\"Enter the number : \"))\n",
    "if(Disarium(number) == 1) :\n",
    "    print(\"Disarium Number\")\n",
    "else:\n",
    "    print(\"Not a Disarium Number\")\n"
   ]
  },
  {
   "cell_type": "markdown",
   "id": "6e5678a5",
   "metadata": {},
   "source": [
    "# 2. Write a Python program to print all disarium numbers between 1 to 100? "
   ]
  },
  {
   "cell_type": "code",
   "execution_count": 10,
   "id": "c1a37778",
   "metadata": {},
   "outputs": [
    {
     "name": "stdout",
     "output_type": "stream",
     "text": [
      "1\n",
      "2\n",
      "3\n",
      "4\n",
      "5\n",
      "6\n",
      "7\n",
      "8\n",
      "9\n",
      "89\n"
     ]
    }
   ],
   "source": [
    "import math\n",
    "\n",
    "for n in range(1, 101):\n",
    "    count_digits = len(str(n))\n",
    "    sum = 0\n",
    "    x = n\n",
    "    while (x != 0) :\n",
    "        r = x % 10\n",
    "        sum = (int)(sum + math.pow(r, count_digits))\n",
    "        count_digits = count_digits - 1\n",
    "        x = x//10\n",
    "    if sum == n :\n",
    "        print(n)\n",
    "    else :\n",
    "        n += 1\n"
   ]
  },
  {
   "cell_type": "markdown",
   "id": "9a854aa9",
   "metadata": {},
   "source": [
    "# 3. Write a Python program to check if the given number is Happy Number?"
   ]
  },
  {
   "cell_type": "code",
   "execution_count": 1,
   "id": "2a5239c2",
   "metadata": {
    "scrolled": true
   },
   "outputs": [
    {
     "name": "stdout",
     "output_type": "stream",
     "text": [
      "Enter the number : 19\n",
      "19 is happy number\n"
     ]
    }
   ],
   "source": [
    "n = int(input(\"Enter the number : \"))\n",
    "x = n\n",
    "while x >= 10:\n",
    "    sum  = 0\n",
    "    while x > 0:\n",
    "        r = x % 10\n",
    "        sum += (r ** 2)\n",
    "        x //= 10\n",
    "    x = sum\n",
    "if x == 1:\n",
    "    print(n,\"is happy number\")\n",
    "else:\n",
    "    print(n,\"is not a happy number\")"
   ]
  },
  {
   "cell_type": "markdown",
   "id": "19601a56",
   "metadata": {},
   "source": [
    "# 4. Write a Python program to print all happy numbers between 1 and 100?"
   ]
  },
  {
   "cell_type": "code",
   "execution_count": 8,
   "id": "2d9d9e86",
   "metadata": {},
   "outputs": [
    {
     "name": "stdout",
     "output_type": "stream",
     "text": [
      "1\n",
      "10\n",
      "13\n",
      "19\n",
      "23\n",
      "28\n",
      "31\n",
      "32\n",
      "44\n",
      "49\n",
      "68\n",
      "70\n",
      "79\n",
      "82\n",
      "86\n",
      "91\n",
      "94\n",
      "97\n",
      "100\n"
     ]
    }
   ],
   "source": [
    "for i in range(1, 101):\n",
    "    x = i\n",
    "    while x >= 10:\n",
    "        sum  = 0\n",
    "        while x > 0:\n",
    "            r = x % 10\n",
    "            sum += (r ** 2)\n",
    "            x //= 10\n",
    "        x = sum\n",
    "    if x == 1:\n",
    "        print(i)\n",
    "    else:\n",
    "        i += 1"
   ]
  },
  {
   "cell_type": "markdown",
   "id": "e0b8b813",
   "metadata": {},
   "source": [
    "# 5. Write a Python program to determine whether the given number is a Harshad Number?"
   ]
  },
  {
   "cell_type": "code",
   "execution_count": 12,
   "id": "dc9ba20f",
   "metadata": {},
   "outputs": [
    {
     "name": "stdout",
     "output_type": "stream",
     "text": [
      "Enter the number : 18\n",
      "Yes\n"
     ]
    }
   ],
   "source": [
    "def checkHarshad(n) :\n",
    "    sum = 0\n",
    "    temp = n\n",
    "    while temp > 0:\n",
    "        sum = sum + temp % 10\n",
    "        temp = temp // 10\n",
    "    return n % sum == 0\n",
    "        \n",
    "\n",
    "n = int(input(\"Enter the number : \"))\n",
    "if(checkHarshad(n)):\n",
    "    print(\"Yes\")\n",
    "else:\n",
    "    print(\"No\")"
   ]
  },
  {
   "cell_type": "markdown",
   "id": "55faedbc",
   "metadata": {},
   "source": [
    "# 6. Write a Python program to print all pronic numbers between 1 and 100?"
   ]
  },
  {
   "cell_type": "code",
   "execution_count": 15,
   "id": "b8c48ce6",
   "metadata": {},
   "outputs": [
    {
     "name": "stdout",
     "output_type": "stream",
     "text": [
      "2 6 12 20 30 42 56 72 90 "
     ]
    }
   ],
   "source": [
    "import math\n",
    "\n",
    "def checkPronic (x) :\n",
    " \n",
    "    i = 0\n",
    "    while ( i <= (int)(math.sqrt(x)) ) :\n",
    "          if ( x == i * (i + 1)) :\n",
    "            return True\n",
    "          i = i + 1\n",
    " \n",
    "    return False\n",
    "\n",
    "i = 1\n",
    "while (i <= 100 ) :\n",
    "    if checkPronic(i) :\n",
    "        print(i,end=\" \")\n",
    "    i = i + 1"
   ]
  }
 ],
 "metadata": {
  "kernelspec": {
   "display_name": "Python 3 (ipykernel)",
   "language": "python",
   "name": "python3"
  },
  "language_info": {
   "codemirror_mode": {
    "name": "ipython",
    "version": 3
   },
   "file_extension": ".py",
   "mimetype": "text/x-python",
   "name": "python",
   "nbconvert_exporter": "python",
   "pygments_lexer": "ipython3",
   "version": "3.9.13"
  }
 },
 "nbformat": 4,
 "nbformat_minor": 5
}
