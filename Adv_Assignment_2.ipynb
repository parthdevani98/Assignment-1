{
 "cells": [
  {
   "cell_type": "markdown",
   "id": "8454d32f",
   "metadata": {},
   "source": [
    "# What is the relationship between classes and modules?"
   ]
  },
  {
   "cell_type": "markdown",
   "id": "bb11a35f",
   "metadata": {},
   "source": [
    "Modules: A module in Python is a file that contains Python code, including variable definitions, function definitions, and class definitions. It is a way to organize and reuse code. Modules allow you to encapsulate related functionality into separate files, making your code more modular and maintainable. Modules can be imported and used in other modules or scripts using the import statement.\n",
    "\n",
    "Classes: A class is a blueprint or template for creating objects. It defines the attributes and behaviors that the objects (instances) of the class will have. Classes encapsulate data and functions into a single entity. Objects created from a class are instances of that class and have access to the attributes and methods defined in the class.\n",
    "\n",
    "Relationship between classes and modules:\n",
    "\n",
    "Classes can be defined inside modules: You can define a class within a module. This allows you to organize related classes within a module file, keeping the code organized and modular.\n",
    "\n",
    "Classes can be imported from modules: Classes defined in one module can be imported and used in another module or script. This allows you to reuse the class definition and create instances of the class in different parts of your code.\n",
    "\n",
    "Modules can contain class definitions and other code: Modules can contain class definitions along with other code, such as function definitions and variable definitions. This allows you to encapsulate related classes and associated functionality in a single module.\n",
    "\n",
    "Modules provide a namespace for classes: When you import a module, it creates a separate namespace, allowing you to refer to the classes defined in that module using the module name as a prefix. This helps avoid naming conflicts and provides a way to organize and access classes."
   ]
  },
  {
   "cell_type": "markdown",
   "id": "1809e4b3",
   "metadata": {},
   "source": [
    "# How do you make instances and classes?"
   ]
  },
  {
   "cell_type": "markdown",
   "id": "ed16657a",
   "metadata": {},
   "source": [
    "Creating Instances:\n",
    "To create an instance of a class, you need to call the class as if it were a function. This process is known as instantiation. Here's the syntax for creating instances:\n",
    "\n",
    "instance = Classname()\n",
    "\n",
    "Defining Classes:\n",
    "To define a class, you use the class keyword followed by the class name. You can specify class attributes, methods, and other elements within the class definition. Here's the basic syntax for defining a class:"
   ]
  },
  {
   "cell_type": "markdown",
   "id": "f8d88c41",
   "metadata": {},
   "source": [
    "# Where and how should be class attributes created?"
   ]
  },
  {
   "cell_type": "markdown",
   "id": "b1202aed",
   "metadata": {},
   "source": [
    "There are two common ways to create class attributes:\n",
    "\n",
    "Directly within the class definition: Class attributes can be created by assigning values to variables within the class block. These attributes are shared among all instances of the class.\n",
    "\n",
    "Inside the class constructor or methods: Class attributes can also be created within the class constructor (__init__ method) or any other class methods. These attributes are typically assigned to the self parameter, making them instance-specific attributes. However, if assigned directly to the class name, they become class attributes."
   ]
  },
  {
   "cell_type": "markdown",
   "id": "16ccc928",
   "metadata": {},
   "source": [
    "# Where and how are instance attributes created?"
   ]
  },
  {
   "cell_type": "markdown",
   "id": "b5269c5f",
   "metadata": {},
   "source": [
    "Instance attributes in Python are created within the methods of a class, typically within the class constructor (__init__ method). These attributes are specific to each instance of the class and are assigned to the self parameter.\n",
    "\n",
    "To create an instance attribute, you can define it within the __init__ method or any other method of the class. Here's an example of creating instance attributes within the __init__ "
   ]
  },
  {
   "cell_type": "markdown",
   "id": "965c1227",
   "metadata": {},
   "source": [
    "# What does the term &quot;self&quot; in a Python class mean?"
   ]
  },
  {
   "cell_type": "markdown",
   "id": "4e5dfc98",
   "metadata": {},
   "source": [
    "self is a conventionally used parameter name within class methods that refers to the instance of the class itself. It is the first parameter of instance methods, including the constructor (__init__) and other methods defined within the class.\n",
    "\n",
    "When a method is called on an instance of a class, the instance itself is automatically passed as the first argument to the method. By convention, this first parameter is named self, but you can use any valid variable name instead. The purpose of self is to allow the method to access and manipulate the instance's attributes and other methods."
   ]
  },
  {
   "cell_type": "markdown",
   "id": "81bd8289",
   "metadata": {},
   "source": [
    "# How does a Python class handle operator overloading?"
   ]
  },
  {
   "cell_type": "code",
   "execution_count": null,
   "id": "7a49970c",
   "metadata": {},
   "outputs": [],
   "source": [
    "operator overloading allows classes to define their own behavior for built-in operators such as +, -, *, /, ==, <, >, and many \n",
    "others. By implementing special methods or dunder methods (methods with double underscores), classes can define how operators \n",
    "should work with instances of the class.\n",
    "\n",
    "Here are some common dunder methods used for operator overloading:\n",
    "\n",
    "__init__  : The constructor method that initializes an instance of the class.\n",
    "__str__   : Returns a string representation of the object, often used for printing.\n",
    "__repr__  : Returns a string representation that can be used to recreate the object.\n",
    "__add__   : Handles the addition operation (+) between instances of the class.\n",
    "__sub__   : Handles the subtraction operation (-) between instances of the class.\n",
    "__mul__   : Handles the multiplication operation (*) between instances of the class.\n",
    "__div__   : Handles the division operation (/) between instances of the class.\n",
    "__eq__    : Handles the equality comparison (==) between instances of the class.\n",
    "__lt__    : Handles the less-than comparison (<) between instances of the class.\n",
    "__gt__    : Handles the greater-than comparison (>) between instances of the class."
   ]
  },
  {
   "cell_type": "markdown",
   "id": "282d7c62",
   "metadata": {},
   "source": [
    "# When do you consider allowing operator overloading of your classes?"
   ]
  },
  {
   "cell_type": "markdown",
   "id": "e045b0af",
   "metadata": {},
   "source": [
    "Operator overloading can be useful when it enhances the clarity and expressiveness of code that involves instances of a particular class. Here are some situations where allowing operator overloading in your classes may be beneficial:\n",
    "\n",
    "1) Semantic Meaning\n",
    "2) Consistency with built-in types\n",
    "3) Domain-specific operations\n",
    "4) Convenience and readability\n"
   ]
  },
  {
   "cell_type": "markdown",
   "id": "c480b9ec",
   "metadata": {},
   "source": [
    "# What is the most popular form of operator overloading?"
   ]
  },
  {
   "cell_type": "markdown",
   "id": "ee994aa8",
   "metadata": {},
   "source": [
    "one of the most popular forms of operator overloading is the implementation of arithmetic operations such as addition, subtraction, multiplication, and division. This is because these operators have well-defined mathematical meanings and are commonly used in various scenarios."
   ]
  },
  {
   "cell_type": "markdown",
   "id": "3fe248a0",
   "metadata": {},
   "source": [
    "# What are the two most important concepts to grasp in order to comprehend Python OOP code?"
   ]
  },
  {
   "cell_type": "markdown",
   "id": "681f6bf7",
   "metadata": {},
   "source": [
    "1) Classes and object\n",
    "2) inheritance and polymorphism"
   ]
  }
 ],
 "metadata": {
  "kernelspec": {
   "display_name": "Python 3 (ipykernel)",
   "language": "python",
   "name": "python3"
  },
  "language_info": {
   "codemirror_mode": {
    "name": "ipython",
    "version": 3
   },
   "file_extension": ".py",
   "mimetype": "text/x-python",
   "name": "python",
   "nbconvert_exporter": "python",
   "pygments_lexer": "ipython3",
   "version": "3.9.13"
  }
 },
 "nbformat": 4,
 "nbformat_minor": 5
}
