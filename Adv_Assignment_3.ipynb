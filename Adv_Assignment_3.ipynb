{
 "cells": [
  {
   "cell_type": "markdown",
   "id": "d1a141a5",
   "metadata": {},
   "source": [
    "# What is the concept of an abstract superclass?"
   ]
  },
  {
   "cell_type": "markdown",
   "id": "cc771366",
   "metadata": {},
   "source": [
    "The concept of an abstract superclass is a fundamental aspect of object-oriented programming (OOP) that allows you to define common attributes and behaviors for a group of related classes. An abstract superclass serves as a blueprint or template for its derived (child) classes.\n",
    "\n",
    "An abstract superclass is a class that cannot be instantiated directly but provides a common interface and structure that its subclasses must adhere to. It contains one or more abstract methods, which are methods without an implementation. These abstract methods define a contract that the derived classes must fulfill by providing their own implementation.\n",
    "\n",
    "The purpose of an abstract superclass is to establish a common set of methods and behavior that the derived classes should inherit and implement. It defines the common attributes and behaviors that are expected across the hierarchy of classes. By using an abstract superclass, you can enforce consistency and ensure that the derived classes adhere to a specific interface or behavior."
   ]
  },
  {
   "cell_type": "markdown",
   "id": "1edc46ee",
   "metadata": {},
   "source": [
    "# What happens when a class statement&#39;s top level contains a basic assignment statement?"
   ]
  },
  {
   "cell_type": "markdown",
   "id": "28432e34",
   "metadata": {},
   "source": [
    "When a class statement's top level contains a basic assignment statement, it defines a class attribute. The assignment statement assigns a value to a variable within the class definition block, making it a class-level variable or attribute."
   ]
  },
  {
   "cell_type": "markdown",
   "id": "af944771",
   "metadata": {},
   "source": [
    "# Why does a class need to manually call a superclass&#39;s __init__ method?"
   ]
  },
  {
   "cell_type": "markdown",
   "id": "4505e463",
   "metadata": {},
   "source": [
    "a class needs to manually call a superclass's __init__ method when it wants to invoke the initialization code defined in the superclass. By calling the superclass's __init__ method, the subclass ensures that the superclass's initialization logic is executed before performing any additional initialization specific to the subclass."
   ]
  },
  {
   "cell_type": "markdown",
   "id": "f2b26e28",
   "metadata": {},
   "source": [
    "# How can you augment, instead of completely replacing, an inherited method?"
   ]
  },
  {
   "cell_type": "markdown",
   "id": "aa22345f",
   "metadata": {},
   "source": [
    "To augment, or extend, an inherited method without completely replacing it in Python, you can use method overriding. Method overriding allows a subclass to provide its own implementation of a method inherited from its superclass while still utilizing the behavior defined in the superclass.\n",
    "\n",
    "To augment an inherited method, follow these steps:\n",
    "\n",
    "Define a method with the same name in the subclass that you want to override from the superclass.\n",
    "\n",
    "Within the subclass method, use the super() function to call the superclass's implementation of the method.\n",
    "\n",
    "Perform any additional actions or modifications specific to the subclass."
   ]
  },
  {
   "cell_type": "markdown",
   "id": "af94fb9d",
   "metadata": {},
   "source": [
    "# How is the local scope of a class different from that of a function?"
   ]
  },
  {
   "cell_type": "markdown",
   "id": "fecf2657",
   "metadata": {},
   "source": [
    "The local scope of a class and a function in Python are different in several ways:\n",
    "\n",
    "Enclosing Scope: In a function, the local scope is enclosed by the function itself. This means that variables defined within the function are accessible only within that function's scope. On the other hand, in a class, the local scope is enclosed by the class definition. Variables defined within the class, including method definitions and class-level variables, are accessible within the class scope.\n",
    "\n",
    "Accessibility: In a class, the local scope is accessible to all methods and attributes defined within the class. Class-level variables can be accessed by all methods of the class. In contrast, in a function, the local scope is accessible only within the function itself. Variables defined within a function are not directly accessible outside of that function's scope.\n",
    "\n",
    "Lifetime: The lifetime of variables in the local scope of a class and a function also differs. In a function, local variables are created when the function is called and destroyed when the function execution completes. In a class, local variables defined within the class scope (outside of methods) have a lifetime that is tied to the lifetime of the class itself. They are created when the class is defined and persist as long as the class is in memory.\n",
    "\n",
    "Usage: The local scope of a class is primarily used for defining class-level variables, methods, and other class-specific attributes. It is where you define the behavior and structure of the class. In contrast, the local scope of a function is used to encapsulate and isolate the logic and variables specific to that function. It allows functions to have their own set of variables that are separate from variables in other functions or global scope."
   ]
  }
 ],
 "metadata": {
  "kernelspec": {
   "display_name": "Python 3 (ipykernel)",
   "language": "python",
   "name": "python3"
  },
  "language_info": {
   "codemirror_mode": {
    "name": "ipython",
    "version": 3
   },
   "file_extension": ".py",
   "mimetype": "text/x-python",
   "name": "python",
   "nbconvert_exporter": "python",
   "pygments_lexer": "ipython3",
   "version": "3.9.13"
  }
 },
 "nbformat": 4,
 "nbformat_minor": 5
}
