{
 "cells": [
  {
   "cell_type": "markdown",
   "id": "d2431af7",
   "metadata": {},
   "source": [
    "### 1. Write a Python Program to Display Fibonacci Sequence Using Recursion?"
   ]
  },
  {
   "cell_type": "code",
   "execution_count": 7,
   "id": "ec2943a1",
   "metadata": {},
   "outputs": [
    {
     "name": "stdout",
     "output_type": "stream",
     "text": [
      "Enter the Number 10\n",
      "0\n",
      "1\n",
      "1\n",
      "2\n",
      "3\n",
      "5\n",
      "8\n",
      "13\n",
      "21\n",
      "34\n"
     ]
    }
   ],
   "source": [
    "def fibo(n : int)-> int :\n",
    "\n",
    "    \"\"\" This Function prints the fibonacci sequence\"\"\"\n",
    "    \n",
    "    if n == 1 :\n",
    "        return 0\n",
    "    if n == 2 :\n",
    "        return 1\n",
    "    return (fibo(n - 1) + fibo(n - 2))\n",
    "\n",
    "\n",
    "Number = int(input(\"Enter the Number \"))\n",
    "\n",
    "for i in range(1, Number + 1) :\n",
    "    print(fibo(i))"
   ]
  },
  {
   "cell_type": "markdown",
   "id": "74199d00",
   "metadata": {},
   "source": [
    "### 2. Write a Python Program to Find Factorial of Number Using Recursion?"
   ]
  },
  {
   "cell_type": "code",
   "execution_count": 14,
   "id": "9e7ae0a8",
   "metadata": {},
   "outputs": [
    {
     "name": "stdout",
     "output_type": "stream",
     "text": [
      "Enter the Number 4\n",
      "Factorial of given number is 24.\n"
     ]
    }
   ],
   "source": [
    "def fact(n : int) -> int :\n",
    "    \n",
    "    \"\"\"This Function calculate the factorial of a given number\"\"\"\n",
    "    if n == 1 :\n",
    "        return 1\n",
    "    if n == 0 :\n",
    "        return 1\n",
    "    else :\n",
    "        return(n * fact(n - 1))\n",
    "\n",
    "\n",
    "\n",
    "Number = int(input(\"Enter the Number \"))\n",
    "\n",
    "Result = fact(Number)\n",
    "print(f\"Factorial of given number is {Result}.\")"
   ]
  },
  {
   "cell_type": "markdown",
   "id": "894dd235",
   "metadata": {},
   "source": [
    "### 3. Write a Python Program to calculate your Body Mass Index?"
   ]
  },
  {
   "cell_type": "code",
   "execution_count": 16,
   "id": "6dbaf1b0",
   "metadata": {},
   "outputs": [
    {
     "name": "stdout",
     "output_type": "stream",
     "text": [
      "Enter the Height meters 1.75\n",
      "Enter the Weight in KGs 75\n",
      "BMI for given data is 24.489795918367346\n"
     ]
    }
   ],
   "source": [
    "Height = float(input(\"Enter the Height meters \"))\n",
    "Weight = int(input(\"Enter the Weight in KGs \"))\n",
    "\n",
    "BMI = Weight/Height ** 2\n",
    "\n",
    "print(f\"BMI for given data is {BMI}\")"
   ]
  },
  {
   "cell_type": "markdown",
   "id": "4d4a25a4",
   "metadata": {},
   "source": [
    "### 4. Write a Python Program to calculate the natural logarithm of any number?"
   ]
  },
  {
   "cell_type": "code",
   "execution_count": 17,
   "id": "4403d454",
   "metadata": {},
   "outputs": [
    {
     "name": "stdout",
     "output_type": "stream",
     "text": [
      "Enter the Number 14\n",
      "Loggarithm of given number is 2.6390573296152584\n"
     ]
    }
   ],
   "source": [
    "import math \n",
    "\n",
    "\n",
    "Number = int(input(\"Enter the Number \"))\n",
    "\n",
    "print(f\"Loggarithm of given number is {math.log(Number)}\")"
   ]
  },
  {
   "cell_type": "markdown",
   "id": "01262326",
   "metadata": {},
   "source": [
    "### 5. Write a Python Program for cube sum of first n natural numbers?"
   ]
  },
  {
   "cell_type": "code",
   "execution_count": 23,
   "id": "bf1d005d",
   "metadata": {},
   "outputs": [
    {
     "name": "stdout",
     "output_type": "stream",
     "text": [
      "Enter the number 5\n",
      "cube sum of N number is 225.\n"
     ]
    }
   ],
   "source": [
    "def cubeSum(n : int) -> int :\n",
    "    sum = 0 \n",
    "    for i in range(1, n + 1):\n",
    "        sum = sum + (i ** 3)\n",
    "    return sum\n",
    "\n",
    "Num = int(input(\"Enter the number \"))\n",
    "\n",
    "print(f\"cube sum of N number is {cubeSum(Num)}.\")"
   ]
  }
 ],
 "metadata": {
  "kernelspec": {
   "display_name": "Python 3 (ipykernel)",
   "language": "python",
   "name": "python3"
  },
  "language_info": {
   "codemirror_mode": {
    "name": "ipython",
    "version": 3
   },
   "file_extension": ".py",
   "mimetype": "text/x-python",
   "name": "python",
   "nbconvert_exporter": "python",
   "pygments_lexer": "ipython3",
   "version": "3.9.13"
  }
 },
 "nbformat": 4,
 "nbformat_minor": 5
}
