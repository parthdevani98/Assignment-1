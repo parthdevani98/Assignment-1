{
 "cells": [
  {
   "cell_type": "markdown",
   "id": "c68fe797",
   "metadata": {},
   "source": [
    "### 1. Write a Python Program to Find LCM?"
   ]
  },
  {
   "cell_type": "code",
   "execution_count": 11,
   "id": "e5790579",
   "metadata": {},
   "outputs": [
    {
     "name": "stdout",
     "output_type": "stream",
     "text": [
      "Enter the value of x 3\n",
      "Enter the value of y 4\n",
      "LCM of x and y is 12.\n"
     ]
    }
   ],
   "source": [
    "x = int(input(\"Enter the value of x \"))\n",
    "y = int(input(\"Enter the value of y \"))\n",
    "\n",
    "\n",
    "if x > y :\n",
    "    greater = x\n",
    "else :\n",
    "    greater = y\n",
    "    \n",
    "while True :\n",
    "    if((greater % x == 0) and (greater % y == 0)) :\n",
    "        lcm = greater\n",
    "        break\n",
    "    greater += 1\n",
    "    \n",
    "print(f\"LCM of x and y is {lcm}.\")\n",
    "\n"
   ]
  },
  {
   "cell_type": "markdown",
   "id": "7bd8f4bf",
   "metadata": {},
   "source": [
    "### 2. Write a Python Program to Find HCF?"
   ]
  },
  {
   "cell_type": "code",
   "execution_count": 6,
   "id": "b16abf19",
   "metadata": {},
   "outputs": [
    {
     "name": "stdout",
     "output_type": "stream",
     "text": [
      "Enter the Num1 20\n",
      "Enter the Num2 35\n",
      "5\n"
     ]
    }
   ],
   "source": [
    "Num1 = int(input(\"Enter the Num1 \"))\n",
    "Num2 = int(input(\"Enter the Num2 \"))\n",
    "\n",
    "while Num1 > 0 and Num2 > 0:\n",
    "    if Num1 > Num2:\n",
    "        Num1 = Num1 % Num2\n",
    "    else :\n",
    "        Num2 = Num2 % Num1\n",
    "        \n",
    "if Num1 == 0:\n",
    "    print(Num2)\n",
    "else :\n",
    "    print(Num1)"
   ]
  },
  {
   "cell_type": "markdown",
   "id": "2c9ec72d",
   "metadata": {},
   "source": [
    "### 3. Write a Python Program to Convert Decimal to Binary, Octal and Hexadecimal?"
   ]
  },
  {
   "cell_type": "code",
   "execution_count": 17,
   "id": "0a2a4006",
   "metadata": {},
   "outputs": [
    {
     "name": "stdout",
     "output_type": "stream",
     "text": [
      "Enter the decimal number 15\n",
      "\n",
      "The decimal value of 15 is:\n",
      "0b1111 in binary.\n",
      "0o17 in octal.\n",
      "0xf in hexadecimal.\n"
     ]
    }
   ],
   "source": [
    "Decimal = int(input(\"Enter the decimal number \"))\n",
    "\n",
    "\n",
    "print(\"\\nThe decimal value of\", Decimal, \"is:\")\n",
    "print(bin(Decimal), \"in binary.\")\n",
    "print(oct(Decimal), \"in octal.\")\n",
    "print(hex(Decimal), \"in hexadecimal.\")\n"
   ]
  },
  {
   "cell_type": "markdown",
   "id": "d06eb4e1",
   "metadata": {},
   "source": [
    "### 4. Write a Python Program To Find ASCII value of a character?"
   ]
  },
  {
   "cell_type": "code",
   "execution_count": 21,
   "id": "ff067cbd",
   "metadata": {},
   "outputs": [
    {
     "name": "stdout",
     "output_type": "stream",
     "text": [
      "Enter the charactera\n",
      "ASCII for given character the is 97\n"
     ]
    }
   ],
   "source": [
    "char = input(\"Enter the character\")\n",
    "\n",
    "\n",
    "print(f\"ASCII for given character the is {ord(char)}\")"
   ]
  },
  {
   "cell_type": "markdown",
   "id": "81ba1695",
   "metadata": {},
   "source": [
    "### 5. Write a Python Program to Make a Simple Calculator with 4 basic mathematical operations?"
   ]
  },
  {
   "cell_type": "code",
   "execution_count": 1,
   "id": "f511d793",
   "metadata": {},
   "outputs": [
    {
     "name": "stdout",
     "output_type": "stream",
     "text": [
      "Please select operation -\n",
      "1. Add\n",
      "2. Subtract\n",
      "3. Multiply\n",
      "4. Divide\n",
      "\n",
      "Select operations form 1, 2, 3, 4 :3\n",
      "Enter first number: 20\n",
      "Enter second number: 4\n",
      "20 * 4 = 80\n"
     ]
    }
   ],
   "source": [
    "def add(num1, num2):\n",
    "    return num1 + num2\n",
    "\n",
    "def subtract(num1, num2):\n",
    "    return num1 - num2\n",
    "\n",
    "def multiply(num1, num2):\n",
    "    return num1 * num2\n",
    "\n",
    "def divide(num1, num2):\n",
    "    return num1 / num2\n",
    "\n",
    "print(\"Please select operation -\\n\" \\\n",
    "        \"1. Add\\n\" \\\n",
    "        \"2. Subtract\\n\" \\\n",
    "        \"3. Multiply\\n\" \\\n",
    "        \"4. Divide\\n\")\n",
    "\n",
    "\n",
    "select = int(input(\"Select operations form 1, 2, 3, 4 :\"))\n",
    "\n",
    "number_1 = int(input(\"Enter first number: \"))\n",
    "number_2 = int(input(\"Enter second number: \"))\n",
    "\n",
    "if select == 1:\n",
    "    print(number_1, \"+\", number_2, \"=\",add(number_1, number_2))\n",
    "\n",
    "elif select == 2:\n",
    "    print(number_1, \"-\", number_2, \"=\",subtract(number_1, number_2))\n",
    "\n",
    "elif select == 3:\n",
    "    print(number_1, \"*\", number_2, \"=\",multiply(number_1, number_2))\n",
    "\n",
    "elif select == 4:\n",
    "    print(number_1, \"/\", number_2, \"=\",divide(number_1, number_2))\n",
    "else:\n",
    "    print(\"Invalid input\")\n"
   ]
  },
  {
   "cell_type": "code",
   "execution_count": null,
   "id": "14162d2b",
   "metadata": {},
   "outputs": [],
   "source": []
  }
 ],
 "metadata": {
  "kernelspec": {
   "display_name": "Python 3 (ipykernel)",
   "language": "python",
   "name": "python3"
  },
  "language_info": {
   "codemirror_mode": {
    "name": "ipython",
    "version": 3
   },
   "file_extension": ".py",
   "mimetype": "text/x-python",
   "name": "python",
   "nbconvert_exporter": "python",
   "pygments_lexer": "ipython3",
   "version": "3.9.13"
  }
 },
 "nbformat": 4,
 "nbformat_minor": 5
}
