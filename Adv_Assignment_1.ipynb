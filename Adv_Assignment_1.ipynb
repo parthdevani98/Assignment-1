{
 "cells": [
  {
   "cell_type": "markdown",
   "id": "111750fd",
   "metadata": {},
   "source": [
    "# What is the purpose of Python&#39;s OOP?"
   ]
  },
  {
   "cell_type": "markdown",
   "id": "83f0ab39",
   "metadata": {},
   "source": [
    "The purpose of Python's Object-Oriented Programming (OOP) is to provide a programming paradigm that organizes code into reusable, self-contained objects. OOP allows for the structuring of code based on real-world objects and their interactions, promoting modular design, code reuse, and better overall software organization."
   ]
  },
  {
   "cell_type": "markdown",
   "id": "b85c5ea4",
   "metadata": {},
   "source": [
    "# Where does an inheritance search look for an attribute?"
   ]
  },
  {
   "cell_type": "markdown",
   "id": "011380f8",
   "metadata": {},
   "source": [
    "In Python, when an attribute is accessed on an object, the inheritance search for that attribute follows a specific order known as the method resolution order(MRO). The MRO determines where Python looks for the attribute based on the class hierarchy.\n",
    "1) The Instance itself\n",
    "2) the Incetance's class\n",
    "3) Superclass in method resolution order\n",
    "4) Object class"
   ]
  },
  {
   "cell_type": "markdown",
   "id": "38fbb7b4",
   "metadata": {},
   "source": [
    "# How do you distinguish between a class object and an instance object?"
   ]
  },
  {
   "cell_type": "markdown",
   "id": "41ab2302",
   "metadata": {},
   "source": [
    "In Python, a class object and an instance object are different concepts and can be distinguished based on their roles and usage within the program.\n",
    "\n",
    "Class Object:\n",
    "\n",
    "A class object represents the class itself, which acts as a blueprint or template for creating instances of that class.\n",
    "It is created when the class is defined in the code.\n",
    "The class object defines the attributes and behaviors that will be shared by all instances of that class.\n",
    "It typically contains class-level variables, class methods, and other attributes that are shared among all instances.\n",
    "\n",
    "Instance Object:\n",
    "\n",
    "An instance object is created from a class and represents a specific occurrence or instance of that class.\n",
    "It is created by calling the class as a function (ClassName()) or using the class's constructor (__init__ method).\n",
    "Each instance has its own set of attributes and may have different values for those attributes.\n",
    "Instance objects can access and modify class-level attributes but also have their own instance-specific attributes.\n",
    "They can invoke instance methods defined in the class, which operate on the specific instance's data."
   ]
  },
  {
   "cell_type": "markdown",
   "id": "e7b7544a",
   "metadata": {},
   "source": [
    "# What makes the first argument in a class’s method function special?"
   ]
  },
  {
   "cell_type": "markdown",
   "id": "d9c2527f",
   "metadata": {},
   "source": [
    "In Python, the first argument in a class's method function is typically named self by convention, although you can technically use any name for it.\n",
    "\n",
    "This argument is special because it refers to the instance of the class on which the method is being called. It is a way for the instance to refer to itself within the method."
   ]
  },
  {
   "cell_type": "markdown",
   "id": "f09ef184",
   "metadata": {},
   "source": [
    "# What is the purpose of the __init__ method?"
   ]
  },
  {
   "cell_type": "markdown",
   "id": "a19c937c",
   "metadata": {},
   "source": [
    "The __init__ method in Python is a special method, also known as the constructor method, which is automatically called when an instance of a class is created. The primary purpose of the __init__ method is to initialize the attributes or properties of the instance."
   ]
  },
  {
   "cell_type": "markdown",
   "id": "ca100c60",
   "metadata": {},
   "source": [
    "# What is the process for creating a class instance?"
   ]
  },
  {
   "cell_type": "markdown",
   "id": "99dc613a",
   "metadata": {},
   "source": [
    "The process for creating a class instance in Python involves the following steps:\n",
    "\n",
    "1) Class Definition: First, you need to define the class using the class keyword. The class serves as a blueprint or template      for creating instances. It defines the attributes and behaviors that the instances will have.\n",
    "\n",
    "2) Instantiation: To create an instance of a class, you call the class as if it were a function. This process is called            instantiation. By calling the class, you create a new instance of that class.\n",
    "\n",
    "3) Memory Allocation: When the class is called, Python allocates memory for the instance and initializes it. This involves          creating a unique namespace for the instance and assigning it a reference to the class.\n",
    "\n",
    "4) __init__ Method: If the class has an __init__ method, it is automatically called during instantiation. This method              initializes the attributes of the instance and prepares it for use. The __init__ method can take arguments to customize the      initialization process.\n",
    "\n",
    "5) Instance Object: Once the instantiation and initialization are complete, you have an instance object. The instance has access    to all the attributes and methods defined in the class. You can access and modify its attributes and invoke its methods."
   ]
  },
  {
   "cell_type": "markdown",
   "id": "ee2211a4",
   "metadata": {},
   "source": [
    "# What is the process for creating a class?"
   ]
  },
  {
   "cell_type": "markdown",
   "id": "19b62cc7",
   "metadata": {},
   "source": [
    "1) Class Definition: To create a class, you need to define it using the class keyword followed by the name of the class. The        class name should follow Python naming conventions (start with a capital letter and use CamelCase).\n",
    "\n",
    "2) Class Attributes: Within the class definition, you can define class-level attributes. These attributes are shared by all        instances of the class and are accessed using the class name. Class attributes are typically defined outside of any method      within the class.\n",
    "\n",
    "3) Constructor (__init__ method): If you want to specify the initial state of the instance or perform any setup operations, you   can define a constructor method called __init__. This method is automatically called when an instance of the class is created   and allows you to initialize instance attributes.\n",
    "\n",
    "4) Instance Methods: Inside the class definition, you can define instance methods. These methods are functions that operate on      the instance and have access to the instance's attributes. Instance methods are typically defined using the self parameter as    the first argument, which represents the instance itself.\n",
    "\n",
    "5) Class Methods (optional): In addition to instance methods, you can define class methods using the @classmethod decorator.        Class methods receive the class itself as the first argument (cls) instead of the instance.\n",
    "\n",
    "6) Static Methods (optional): Static methods can also be defined within the class using the @staticmethod decorator. These         methods do not receive the instance or class as the first argument and are typically used for utility functions that don't       depend on the instance or class state."
   ]
  },
  {
   "cell_type": "markdown",
   "id": "60a47e4b",
   "metadata": {},
   "source": [
    "# How would you define the superclasses of a class?"
   ]
  },
  {
   "cell_type": "markdown",
   "id": "3d0de1ee",
   "metadata": {},
   "source": [
    "superclasses of a class are the classes from which the current class inherits. Superclasses are also referred to as base classes or parent classes. They provide a way to reuse and extend code by inheriting attributes and behaviors from other classes.\n",
    "\n",
    "To define the superclasses of a class, you specify them in the class definition using parentheses after the class name. The superclasses are listed in the order in which you want Python to perform attribute lookup and method resolution."
   ]
  }
 ],
 "metadata": {
  "kernelspec": {
   "display_name": "Python 3 (ipykernel)",
   "language": "python",
   "name": "python3"
  },
  "language_info": {
   "codemirror_mode": {
    "name": "ipython",
    "version": 3
   },
   "file_extension": ".py",
   "mimetype": "text/x-python",
   "name": "python",
   "nbconvert_exporter": "python",
   "pygments_lexer": "ipython3",
   "version": "3.9.13"
  }
 },
 "nbformat": 4,
 "nbformat_minor": 5
}
