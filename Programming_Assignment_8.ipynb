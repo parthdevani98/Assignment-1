{
 "cells": [
  {
   "cell_type": "markdown",
   "id": "9c28c0f1",
   "metadata": {},
   "source": [
    "# 1. Write a Python Program to Add Two Matrices?"
   ]
  },
  {
   "cell_type": "code",
   "execution_count": 17,
   "id": "e725b111",
   "metadata": {},
   "outputs": [
    {
     "name": "stdout",
     "output_type": "stream",
     "text": [
      "[19, 8, 14]\n",
      "[7, 16, 4]\n",
      "[9, 14, 18]\n"
     ]
    }
   ],
   "source": [
    "Matrix1 = [[16,3,7],\n",
    "           [1 ,9,2],\n",
    "           [7 ,6,9]]\n",
    "\n",
    "Matrix2 = [[3,5,7],\n",
    "           [6,7,2],\n",
    "           [2,8,9]]\n",
    "\n",
    "result = [[0,0,0],\n",
    "          [0,0,0],\n",
    "          [0,0,0]]\n",
    "\n",
    "\n",
    "for i in range(len(Matrix1)):\n",
    "   \n",
    "   for j in range(len(Matrix1[0])):\n",
    "        result[i][j] = Matrix1[i][j] + Matrix2[i][j]\n",
    "\n",
    "for final in result:\n",
    "    print(final)\n"
   ]
  },
  {
   "cell_type": "markdown",
   "id": "c55380bb",
   "metadata": {},
   "source": [
    "# 2. Write a Python Program to Multiply Two Matrices?"
   ]
  },
  {
   "cell_type": "code",
   "execution_count": 7,
   "id": "36698347",
   "metadata": {},
   "outputs": [
    {
     "name": "stdout",
     "output_type": "stream",
     "text": [
      "[114, 160, 60, 27]\n",
      "[74, 97, 73, 14]\n",
      "[119, 157, 112, 23]\n"
     ]
    }
   ],
   "source": [
    "Matrix1 = [[12,7,3],\n",
    "           [4 ,5,6],\n",
    "           [7 ,8,9]]\n",
    "\n",
    "Matrix2 = [[5,8,1,2],\n",
    "           [6,7,3,0],\n",
    "           [4,5,9,1]]\n",
    "\n",
    "result = [[0,0,0,0],\n",
    "          [0,0,0,0],\n",
    "          [0,0,0,0]]\n",
    "\n",
    "\n",
    "for i in range(len(Matrix1 )):\n",
    "\n",
    "    for j in range(len(Matrix2[0])):\n",
    "      \n",
    "       for k in range(len(Matrix2)):\n",
    "            result[i][j] += Matrix1 [i][k] * Matrix2[k][j]\n",
    "\n",
    "for final in result:\n",
    "    print(final)\n"
   ]
  },
  {
   "cell_type": "markdown",
   "id": "229f0554",
   "metadata": {},
   "source": [
    "# 3. Write a Python Program to Transpose a Matrix? "
   ]
  },
  {
   "cell_type": "code",
   "execution_count": 10,
   "id": "ec6327a9",
   "metadata": {},
   "outputs": [
    {
     "name": "stdout",
     "output_type": "stream",
     "text": [
      "[12, 4, 3]\n",
      "[7, 5, 8]\n",
      "[2, 6, 2]\n"
     ]
    }
   ],
   "source": [
    "X = [[12,7,2],\n",
    "     [4 ,5,6],\n",
    "     [3 ,8,2]]\n",
    "\n",
    "result = [[0,0,0],\n",
    "          [0,0,0],\n",
    "          [0,0,0]]\n",
    "\n",
    "for i in range(len(X)):\n",
    "\n",
    "    for j in range(len(X[0])):\n",
    "        result[j][i] = X[i][j]\n",
    "\n",
    "for final in result:\n",
    "    print(final)\n"
   ]
  },
  {
   "cell_type": "markdown",
   "id": "cf1369ee",
   "metadata": {},
   "source": [
    "# 4. Write a Python Program to Sort Words in Alphabetic Order?"
   ]
  },
  {
   "cell_type": "code",
   "execution_count": 11,
   "id": "2d75a5e3",
   "metadata": {},
   "outputs": [
    {
     "name": "stdout",
     "output_type": "stream",
     "text": [
      "Enter the string : my name is parth\n",
      "The sorted words are:\n",
      "is\n",
      "my\n",
      "name\n",
      "parth\n"
     ]
    }
   ],
   "source": [
    "string = input(\"Enter the string : \")\n",
    "\n",
    "words = [word.lower() for word in string.split()]\n",
    "words.sort()\n",
    "\n",
    "print(\"The sorted words are:\")\n",
    "for word in words:\n",
    "    print(word)"
   ]
  },
  {
   "cell_type": "markdown",
   "id": "25afc174",
   "metadata": {},
   "source": [
    "# 5. Write a Python Program to Remove Punctuation From a String?"
   ]
  },
  {
   "cell_type": "code",
   "execution_count": 15,
   "id": "3609e63f",
   "metadata": {},
   "outputs": [
    {
     "name": "stdout",
     "output_type": "stream",
     "text": [
      "Enter the string : \"Hello!!!, Parth ---devani.\"\n",
      "Hello Parth devani\n"
     ]
    }
   ],
   "source": [
    "punctuations = '''!()-[]{};:'\"\\,<>./?@#$%^&*_~'''\n",
    "\n",
    "string = input(\"Enter the string : \")\n",
    "output_string = \"\"\n",
    "for char in string:\n",
    "    if char not in punctuations:\n",
    "        output_string = output_string + char\n",
    "\n",
    "\n",
    "print(output_string)\n"
   ]
  }
 ],
 "metadata": {
  "kernelspec": {
   "display_name": "Python 3 (ipykernel)",
   "language": "python",
   "name": "python3"
  },
  "language_info": {
   "codemirror_mode": {
    "name": "ipython",
    "version": 3
   },
   "file_extension": ".py",
   "mimetype": "text/x-python",
   "name": "python",
   "nbconvert_exporter": "python",
   "pygments_lexer": "ipython3",
   "version": "3.9.13"
  }
 },
 "nbformat": 4,
 "nbformat_minor": 5
}
