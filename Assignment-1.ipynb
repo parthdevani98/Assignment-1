{
 "cells": [
  {
   "cell_type": "markdown",
   "id": "d30440e0",
   "metadata": {},
   "source": [
    "### 1. In the below elements which of them are values or an expression? eg:- values can be\n",
    "integer or string and expressions will be mathematical operators.\n",
    "*\n",
    "&#39;hello&#39;\n",
    "-87.8\n",
    "-\n",
    "/\n",
    "+\n",
    "6"
   ]
  },
  {
   "cell_type": "code",
   "execution_count": null,
   "id": "bb89c313",
   "metadata": {},
   "outputs": [],
   "source": [
    "'''\n",
    "Answer :-    *    - Expression\n",
    "          'hello' - value\n",
    "          -87.8   - value\n",
    "            -     - Expression\n",
    "            /     - Expression\n",
    "            +     - Expression\n",
    "            6     - Value\n",
    "'''"
   ]
  },
  {
   "cell_type": "markdown",
   "id": "3861a164",
   "metadata": {},
   "source": [
    "### 2. What is the difference between string and variable?"
   ]
  },
  {
   "cell_type": "code",
   "execution_count": null,
   "id": "d11cc4a3",
   "metadata": {},
   "outputs": [],
   "source": [
    "'''\n",
    "Variable :- Variables are symbols that we can use to store the data in a program.\n",
    "    \n",
    "String :- String are the data that we can use to store in a variable\n",
    "'''"
   ]
  },
  {
   "cell_type": "markdown",
   "id": "326cf247",
   "metadata": {},
   "source": [
    "### 3. Describe three different data types."
   ]
  },
  {
   "cell_type": "code",
   "execution_count": null,
   "id": "7e1542fd",
   "metadata": {},
   "outputs": [],
   "source": [
    "'''\n",
    "There are 3 different datatypes as below\n",
    "1. Numeric -> int, float, complex          -> it is use to store and evaluate different types of values.\n",
    "2. Sequence type -> tuple, list, range     -> it is use to store the different set of value in a single type.\n",
    "3. Boolean type -> bool(True(1), False(0)) -> it is use to store boolean value.\n",
    "\n"
   ]
  },
  {
   "cell_type": "markdown",
   "id": "b9c5e256",
   "metadata": {},
   "source": [
    "### 4. What is an expression made up of? What do all expressions do?"
   ]
  },
  {
   "cell_type": "code",
   "execution_count": null,
   "id": "cb37da6f",
   "metadata": {},
   "outputs": [],
   "source": [
    "'''\n",
    "Expression is made up of different types of operators, Variable and values which helps user to evaluate the expression and give the desire output."
   ]
  },
  {
   "cell_type": "markdown",
   "id": "24cb28b8",
   "metadata": {},
   "source": [
    "### 5. This assignment statements, like spam = 10. What is the difference between an expression and statement?\n"
   ]
  },
  {
   "cell_type": "code",
   "execution_count": null,
   "id": "e7795ea4",
   "metadata": {},
   "outputs": [],
   "source": [
    "'''\n",
    "Statement represnt an action or command(eg.print,assignment) where is Expression is a combination of variables, operations and values that yields a result value.\n",
    "'''"
   ]
  },
  {
   "cell_type": "markdown",
   "id": "55069436",
   "metadata": {},
   "source": [
    "### 6. After running the following code, what does the variable bacon contain?\n",
    "bacon = 22\n",
    "bacon + 1"
   ]
  },
  {
   "cell_type": "code",
   "execution_count": 1,
   "id": "696bb63d",
   "metadata": {},
   "outputs": [
    {
     "data": {
      "text/plain": [
       "23"
      ]
     },
     "execution_count": 1,
     "metadata": {},
     "output_type": "execute_result"
    }
   ],
   "source": [
    "bacon=22\n",
    "bacon+1"
   ]
  },
  {
   "cell_type": "markdown",
   "id": "20f91351",
   "metadata": {},
   "source": [
    "### 7. What should the values of the following two terms be?\n",
    "&#39;spam&#39; + &#39;spamspam&#39;\n",
    "&#39;spam&#39; * 3"
   ]
  },
  {
   "cell_type": "code",
   "execution_count": 2,
   "id": "afa26a6f",
   "metadata": {},
   "outputs": [
    {
     "data": {
      "text/plain": [
       "'spamspamspam'"
      ]
     },
     "execution_count": 2,
     "metadata": {},
     "output_type": "execute_result"
    }
   ],
   "source": [
    "'spam'*3"
   ]
  },
  {
   "cell_type": "code",
   "execution_count": 3,
   "id": "2f79d416",
   "metadata": {},
   "outputs": [
    {
     "data": {
      "text/plain": [
       "'spamspamspam'"
      ]
     },
     "execution_count": 3,
     "metadata": {},
     "output_type": "execute_result"
    }
   ],
   "source": [
    "'spam'+'spamspam'"
   ]
  },
  {
   "cell_type": "markdown",
   "id": "7e558274",
   "metadata": {},
   "source": [
    "### 8. Why is eggs a valid variable name while 100 is invalid?"
   ]
  },
  {
   "cell_type": "code",
   "execution_count": null,
   "id": "a36c1c16",
   "metadata": {},
   "outputs": [],
   "source": [
    "'''\n",
    "Variable name should not start with digit.\n",
    "'''"
   ]
  },
  {
   "cell_type": "markdown",
   "id": "5e68ecc4",
   "metadata": {},
   "source": [
    "### 9. What three functions can be used to get the integer, floating-point number, or string version of a value?"
   ]
  },
  {
   "cell_type": "code",
   "execution_count": null,
   "id": "5ee76e8e",
   "metadata": {},
   "outputs": [],
   "source": [
    "'''\n",
    "1.int()\n",
    "2.float()\n",
    "3.string"
   ]
  },
  {
   "cell_type": "markdown",
   "id": "2e80f897",
   "metadata": {},
   "source": [
    "### 10. Why does this expression cause an error? How can you fix it?\n",
    "        'I have eaten' + 99 + 'burritos'.\n"
   ]
  },
  {
   "cell_type": "code",
   "execution_count": 6,
   "id": "72a943ec",
   "metadata": {},
   "outputs": [
    {
     "data": {
      "text/plain": [
       "'I have eaten 99 burritos'"
      ]
     },
     "execution_count": 6,
     "metadata": {},
     "output_type": "execute_result"
    }
   ],
   "source": [
    "'I have eaten' + ' 99 ' + 'burritos'\n",
    "\n",
    "#Here we cannot concatenate integer with string, we can fix it by converting int to str as below\n",
    "#'I have eaten' + ' 99 ' + 'burritos'"
   ]
  }
 ],
 "metadata": {
  "kernelspec": {
   "display_name": "Python 3 (ipykernel)",
   "language": "python",
   "name": "python3"
  },
  "language_info": {
   "codemirror_mode": {
    "name": "ipython",
    "version": 3
   },
   "file_extension": ".py",
   "mimetype": "text/x-python",
   "name": "python",
   "nbconvert_exporter": "python",
   "pygments_lexer": "ipython3",
   "version": "3.9.12"
  }
 },
 "nbformat": 4,
 "nbformat_minor": 5
}
