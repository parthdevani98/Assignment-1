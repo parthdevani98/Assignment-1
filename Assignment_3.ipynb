{
 "cells": [
  {
   "cell_type": "markdown",
   "id": "80065342",
   "metadata": {},
   "source": [
    "### 1. Why are functions advantageous to have in your programs?"
   ]
  },
  {
   "cell_type": "code",
   "execution_count": null,
   "id": "953d28df",
   "metadata": {},
   "outputs": [],
   "source": [
    "\"\"\" Functions helps us to reuse the same code in multiple place in our program and it also increase\n",
    "    the readability of our program and it also help in code modularity\"\"\""
   ]
  },
  {
   "cell_type": "markdown",
   "id": "05329bba",
   "metadata": {},
   "source": [
    "### 2. When does the code in a function run: when it&#39;s specified or when it&#39;s called?"
   ]
  },
  {
   "cell_type": "code",
   "execution_count": null,
   "id": "f7dd39af",
   "metadata": {},
   "outputs": [],
   "source": [
    "\"\"\"code in a function will run when that perticular function is called\"\"\""
   ]
  },
  {
   "cell_type": "markdown",
   "id": "dd734cb2",
   "metadata": {},
   "source": [
    "### 3. What statement creates a function?"
   ]
  },
  {
   "cell_type": "code",
   "execution_count": null,
   "id": "4916721b",
   "metadata": {},
   "outputs": [],
   "source": [
    "\"\"\"\n",
    "-> The “def” keyword is a statement for defining a function in Python. \n",
    "-> start a function with the def keyword, specify a name followed by a colon :(colon) sign.\n",
    "    \n",
    "       def function_name(parameters): \"\"\""
   ]
  },
  {
   "cell_type": "markdown",
   "id": "85e049c2",
   "metadata": {},
   "source": [
    "### 4. What is the difference between a function and a function call?"
   ]
  },
  {
   "cell_type": "code",
   "execution_count": null,
   "id": "82178eb0",
   "metadata": {},
   "outputs": [],
   "source": [
    "\"\"\" Function      :- Function contains the piece of code which will perform the perticular task or Operation.\n",
    "    Function call :- A function call is the code used to pass control to a function. \"\"\""
   ]
  },
  {
   "cell_type": "markdown",
   "id": "4f3a9ee4",
   "metadata": {},
   "source": [
    "### 5. How many global scopes are there in a Python program? How many local scopes?"
   ]
  },
  {
   "cell_type": "code",
   "execution_count": null,
   "id": "c70acd58",
   "metadata": {},
   "outputs": [],
   "source": [
    "\"\"\"At any given time during execution, you'll have at most four active Python scopes i.e.local, enclosing, \n",
    "   global, and built-in depending on where you are in the code\"\"\""
   ]
  },
  {
   "cell_type": "markdown",
   "id": "331c7e3d",
   "metadata": {},
   "source": [
    "### 6. What happens to variables in a local scope when the function call returns?"
   ]
  },
  {
   "cell_type": "code",
   "execution_count": null,
   "id": "08556cbe",
   "metadata": {},
   "outputs": [],
   "source": [
    "\"\"\"When the execution of the function returns, the local variables are destroyed.\"\"\""
   ]
  },
  {
   "cell_type": "markdown",
   "id": "fb60eb82",
   "metadata": {},
   "source": [
    "### 7. What is the concept of a return value? Is it possible to have a return value in an expression?"
   ]
  },
  {
   "cell_type": "code",
   "execution_count": null,
   "id": "af6abb3f",
   "metadata": {},
   "outputs": [],
   "source": [
    "\"\"\"It simply means end the execution of the function and provide the result, YES , it is possible to have a \n",
    "   return value in an expression\"\"\""
   ]
  },
  {
   "cell_type": "markdown",
   "id": "816e7b85",
   "metadata": {},
   "source": [
    "### 8. If a function does not have a return statement, what is the return value of a call to that function?"
   ]
  },
  {
   "cell_type": "code",
   "execution_count": null,
   "id": "fa0fbc01",
   "metadata": {},
   "outputs": [],
   "source": [
    "\"\"\" if a function does not have a return statement then it will return None to that function \"\"\""
   ]
  },
  {
   "cell_type": "markdown",
   "id": "8c7a7c82",
   "metadata": {},
   "source": [
    "### 9. How do you make a function variable refer to the global variable?"
   ]
  },
  {
   "cell_type": "code",
   "execution_count": null,
   "id": "1286938d",
   "metadata": {},
   "outputs": [],
   "source": [
    "\"\"\" By providing global keyword before that variable it will refer as a global variable \"\"\""
   ]
  },
  {
   "cell_type": "markdown",
   "id": "1202ef11",
   "metadata": {},
   "source": [
    "### 10. What is the data type of None?"
   ]
  },
  {
   "cell_type": "code",
   "execution_count": null,
   "id": "6b344a01",
   "metadata": {},
   "outputs": [],
   "source": [
    "\"\"\" NoneType \"\"\""
   ]
  },
  {
   "cell_type": "markdown",
   "id": "d87f5c68",
   "metadata": {},
   "source": [
    "### 11. What does the sentence import areallyourpetsnamederic do?"
   ]
  },
  {
   "cell_type": "code",
   "execution_count": null,
   "id": "cb8eff59",
   "metadata": {},
   "outputs": [],
   "source": [
    "\"\"\" it will import a module called areallyourpetsnamederic \"\"\""
   ]
  },
  {
   "cell_type": "markdown",
   "id": "8076c893",
   "metadata": {},
   "source": [
    "### 12. If you had a bacon() feature in a spam module, what would you call it after importing spam?"
   ]
  },
  {
   "cell_type": "code",
   "execution_count": null,
   "id": "1c1b98e1",
   "metadata": {},
   "outputs": [],
   "source": [
    "\"\"\" spam.bacon() \"\"\""
   ]
  },
  {
   "cell_type": "markdown",
   "id": "c9ec1267",
   "metadata": {},
   "source": [
    "### 13. What can you do to save a programme from crashing if it encounters an error?"
   ]
  },
  {
   "cell_type": "code",
   "execution_count": null,
   "id": "6a812b8f",
   "metadata": {},
   "outputs": [],
   "source": [
    "\"\"\" Prevents program from crashing if an error occurs. If an error occurs in a program, \n",
    "    we don't want the program to unexpectedly crash on the user. Instead, error handling  \n",
    "    can be used to notify the user of why the error occurred and gracefully exit the process that caused the error.\"\"\""
   ]
  },
  {
   "cell_type": "markdown",
   "id": "f71cde8a",
   "metadata": {},
   "source": [
    "### 14. What is the purpose of the try clause? What is the purpose of the except clause?"
   ]
  },
  {
   "cell_type": "code",
   "execution_count": null,
   "id": "65b3db06",
   "metadata": {},
   "outputs": [],
   "source": [
    "\"\"\" Try clause helps us to test the code for error and except clause helps us for handle the error \"\"\""
   ]
  }
 ],
 "metadata": {
  "kernelspec": {
   "display_name": "Python 3 (ipykernel)",
   "language": "python",
   "name": "python3"
  },
  "language_info": {
   "codemirror_mode": {
    "name": "ipython",
    "version": 3
   },
   "file_extension": ".py",
   "mimetype": "text/x-python",
   "name": "python",
   "nbconvert_exporter": "python",
   "pygments_lexer": "ipython3",
   "version": "3.9.13"
  }
 },
 "nbformat": 4,
 "nbformat_minor": 5
}
