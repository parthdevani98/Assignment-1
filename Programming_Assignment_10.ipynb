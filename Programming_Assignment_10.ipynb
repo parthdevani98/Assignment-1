{
 "cells": [
  {
   "cell_type": "markdown",
   "id": "b254ab8e",
   "metadata": {},
   "source": [
    "# 1. Write a Python program to find sum of elements in list?"
   ]
  },
  {
   "cell_type": "code",
   "execution_count": 4,
   "id": "d8203509",
   "metadata": {},
   "outputs": [
    {
     "name": "stdout",
     "output_type": "stream",
     "text": [
      "Enter the no of elements : 5\n",
      "1\n",
      "2\n",
      "3\n",
      "4\n",
      "5\n",
      "the Sum of elements in a list is 15\n"
     ]
    }
   ],
   "source": [
    "lst = []\n",
    "total = 0\n",
    "\n",
    "Num = int(input(\"Enter the no of elements : \"))\n",
    "\n",
    "for i in range(0, Num):\n",
    "    ele = int(input())\n",
    "    lst.append(ele)\n",
    "    \n",
    "for i in range(0, len(lst)):\n",
    "    total = total + lst[i]\n",
    "    \n",
    "print(f\"the Sum of elements in a list is {total}\")"
   ]
  },
  {
   "cell_type": "markdown",
   "id": "35212e69",
   "metadata": {},
   "source": [
    "# 2. Write a Python program to Multiply all numbers in the list?"
   ]
  },
  {
   "cell_type": "code",
   "execution_count": 5,
   "id": "26837e0d",
   "metadata": {},
   "outputs": [
    {
     "name": "stdout",
     "output_type": "stream",
     "text": [
      "Enter the no of elements : 5\n",
      "1\n",
      "2\n",
      "3\n",
      "4\n",
      "5\n",
      "Multiplication of all the elements in a list is : 120\n"
     ]
    }
   ],
   "source": [
    "lst = []\n",
    "total = 1\n",
    "\n",
    "Num = int(input(\"Enter the no of elements : \"))\n",
    "\n",
    "for i in range(0, Num):\n",
    "    ele = int(input())\n",
    "    lst.append(ele)\n",
    "\n",
    "for i in range(0, len(lst)) :\n",
    "    total *= lst[i]\n",
    "    \n",
    "print(f\"Multiplication of all the elements in a list is : {total}\")\n"
   ]
  },
  {
   "cell_type": "markdown",
   "id": "f120afc2",
   "metadata": {},
   "source": [
    "# 3. Write a Python program to find smallest number in a list?"
   ]
  },
  {
   "cell_type": "code",
   "execution_count": 6,
   "id": "eec71c22",
   "metadata": {},
   "outputs": [
    {
     "name": "stdout",
     "output_type": "stream",
     "text": [
      "Enter the no of elements : 5\n",
      "1\n",
      "2\n",
      "3\n",
      "4\n",
      "54\n",
      "The smallest Number in a list is : 1\n"
     ]
    }
   ],
   "source": [
    "lst = []\n",
    "\n",
    "Num = int(input(\"Enter the no of elements : \"))\n",
    "\n",
    "for i in range(0, Num):\n",
    "    ele = int(input())\n",
    "    lst.append(ele)\n",
    "smallest = lst[0] \n",
    "\n",
    "for i in range(0, len(lst)):\n",
    "    if lst[i] < smallest:\n",
    "        smallest = lst[i]\n",
    "        \n",
    "        \n",
    "print(f\"The smallest Number in a list is : {smallest}\")\n"
   ]
  },
  {
   "cell_type": "markdown",
   "id": "2d70a259",
   "metadata": {},
   "source": [
    "# 4. Write a Python program to find largest number in a list?"
   ]
  },
  {
   "cell_type": "code",
   "execution_count": 7,
   "id": "efaade47",
   "metadata": {},
   "outputs": [
    {
     "name": "stdout",
     "output_type": "stream",
     "text": [
      "Enter the no of elements : 5\n",
      "1\n",
      "2\n",
      "3\n",
      "4\n",
      "5\n",
      "The smallest Number in a list is : 5\n"
     ]
    }
   ],
   "source": [
    "lst = []\n",
    "\n",
    "Num = int(input(\"Enter the no of elements : \"))\n",
    "\n",
    "for i in range(0, Num):\n",
    "    ele = int(input())\n",
    "    lst.append(ele)\n",
    "Largest = lst[0] \n",
    "for i in range(0, len(lst)):\n",
    "    if lst[i] > Largest:\n",
    "        Largest = lst[i]\n",
    "        \n",
    "        \n",
    "print(f\"The smallest Number in a list is : {Largest}\")"
   ]
  },
  {
   "cell_type": "markdown",
   "id": "e4ccc105",
   "metadata": {},
   "source": [
    "# 5. Write a Python program to find second largest number in a list?"
   ]
  },
  {
   "cell_type": "code",
   "execution_count": 2,
   "id": "eaa2b733",
   "metadata": {},
   "outputs": [
    {
     "name": "stdout",
     "output_type": "stream",
     "text": [
      "Second largest number: 13\n"
     ]
    }
   ],
   "source": [
    "def find_second_largest(numbers : list) -> int:\n",
    "    if len(numbers) < 2:\n",
    "        return None\n",
    "\n",
    "    largest = float('-inf')\n",
    "    second_largest = float('-inf')\n",
    "\n",
    "    for num in numbers:\n",
    "        if num > largest:\n",
    "            second_largest = largest\n",
    "            largest = num\n",
    "        elif num > second_largest and num != largest:\n",
    "            second_largest = num\n",
    "\n",
    "    if second_largest == float('-inf'):\n",
    "        return None\n",
    "\n",
    "    return second_largest\n",
    "\n",
    "my_list = [2,5,7,9,12,13,4,67]\n",
    "result = find_second_largest(my_list)\n",
    "print(\"Second largest number:\", result)"
   ]
  },
  {
   "cell_type": "markdown",
   "id": "eb54b62f",
   "metadata": {},
   "source": [
    "# 6. Write a Python program to find N largest elements from a list?"
   ]
  },
  {
   "cell_type": "code",
   "execution_count": 5,
   "id": "d5605dd7",
   "metadata": {},
   "outputs": [
    {
     "name": "stdout",
     "output_type": "stream",
     "text": [
      "5 largest elements: [15, 13, 10, 10, 9]\n"
     ]
    }
   ],
   "source": [
    "def find_n_largest(numbers, n):\n",
    "    if n > len(numbers) or n < 1:\n",
    "        return None\n",
    "\n",
    "    largest_elements = sorted(numbers, reverse=True)[:n]\n",
    "    return largest_elements\n",
    "\n",
    "\n",
    "my_list = [10,5,7,3,2,9,7,10,13,15]\n",
    "n = 5\n",
    "result = find_n_largest(my_list, n)\n",
    "print(f\"{n} largest elements:\", result)"
   ]
  },
  {
   "cell_type": "markdown",
   "id": "2a2889e7",
   "metadata": {},
   "source": [
    "# 7. Write a Python program to print even numbers in a list?"
   ]
  },
  {
   "cell_type": "code",
   "execution_count": 6,
   "id": "1755e67d",
   "metadata": {},
   "outputs": [
    {
     "name": "stdout",
     "output_type": "stream",
     "text": [
      "Even numbers:\n",
      "2\n",
      "4\n",
      "6\n",
      "8\n",
      "0\n"
     ]
    }
   ],
   "source": [
    "def print_even_numbers(numbers):\n",
    "    for num in numbers:\n",
    "        if num % 2 == 0:\n",
    "            print(num)\n",
    "\n",
    "my_list = [1,3,5,7,9,2,4,6,8,0]\n",
    "print(\"Even numbers:\")\n",
    "print_even_numbers(my_list)"
   ]
  },
  {
   "cell_type": "markdown",
   "id": "16020126",
   "metadata": {},
   "source": [
    "# 8. Write a Python program to print odd numbers in a List?"
   ]
  },
  {
   "cell_type": "code",
   "execution_count": 9,
   "id": "f72c18d7",
   "metadata": {
    "scrolled": true
   },
   "outputs": [
    {
     "name": "stdout",
     "output_type": "stream",
     "text": [
      "Odd numbers:\n",
      "1\n",
      "3\n",
      "17\n",
      "7\n",
      "13\n",
      "9\n"
     ]
    }
   ],
   "source": [
    "def print_odd_numbers(numbers):\n",
    "    for num in numbers:\n",
    "        if num % 2 != 0:\n",
    "            print(num)\n",
    "\n",
    "\n",
    "\n",
    "my_list = [1, 2, 3, 4, 17, 6, 7, 13, 9, 10]\n",
    "print(\"Odd numbers:\")\n",
    "print_odd_numbers(my_list)"
   ]
  },
  {
   "cell_type": "markdown",
   "id": "703c8ce0",
   "metadata": {},
   "source": [
    "# 9. Write a Python program to Remove empty List from List?"
   ]
  },
  {
   "cell_type": "code",
   "execution_count": 11,
   "id": "b58dbf1c",
   "metadata": {},
   "outputs": [
    {
     "name": "stdout",
     "output_type": "stream",
     "text": [
      "List after removing empty lists: [1, 2, 3, 4, 5, 6, [7, 8]]\n"
     ]
    }
   ],
   "source": [
    "def remove_empty_lists(lst):\n",
    "    return [sublist for sublist in lst if sublist]\n",
    "\n",
    "\n",
    "\n",
    "my_list = [1, 2, [], 3, [], 4, 5, [], 6, [], [7, 8], []]\n",
    "result = remove_empty_lists(my_list)\n",
    "print(\"List after removing empty lists:\", result)"
   ]
  },
  {
   "cell_type": "markdown",
   "id": "d3c7b9a8",
   "metadata": {},
   "source": [
    "# 10. Write a Python program to Cloning or Copying a list?"
   ]
  },
  {
   "cell_type": "code",
   "execution_count": 12,
   "id": "c836f485",
   "metadata": {},
   "outputs": [
    {
     "name": "stdout",
     "output_type": "stream",
     "text": [
      "Original list: [1, 2, 3, 4, 5]\n",
      "Cloned list: [1, 2, 3, 4, 5]\n"
     ]
    }
   ],
   "source": [
    "def clone_list(lst):\n",
    "    return lst.copy()\n",
    "\n",
    "\n",
    "my_list = [1, 2, 3, 4, 5]\n",
    "cloned_list = clone_list(my_list)\n",
    "print(\"Original list:\", my_list)\n",
    "print(\"Cloned list:\", cloned_list)"
   ]
  },
  {
   "cell_type": "markdown",
   "id": "42b1e2d8",
   "metadata": {},
   "source": [
    "# 11. Write a Python program to Count occurrences of an element in a list?"
   ]
  },
  {
   "cell_type": "code",
   "execution_count": 13,
   "id": "7e72b381",
   "metadata": {},
   "outputs": [
    {
     "name": "stdout",
     "output_type": "stream",
     "text": [
      "Occurrences of 3: 1\n"
     ]
    }
   ],
   "source": [
    "def count_occurrences(lst, element):\n",
    "    count = 0\n",
    "    for item in lst:\n",
    "        if item == element:\n",
    "            count += 1\n",
    "    return count\n",
    "\n",
    "\n",
    "my_list = [1, 2, 3, 4, 2, 2, 5, 6, 2]\n",
    "element = 3\n",
    "occurrences = count_occurrences(my_list, element)\n",
    "print(f\"Occurrences of {element}:\", occurrences)"
   ]
  }
 ],
 "metadata": {
  "kernelspec": {
   "display_name": "Python 3 (ipykernel)",
   "language": "python",
   "name": "python3"
  },
  "language_info": {
   "codemirror_mode": {
    "name": "ipython",
    "version": 3
   },
   "file_extension": ".py",
   "mimetype": "text/x-python",
   "name": "python",
   "nbconvert_exporter": "python",
   "pygments_lexer": "ipython3",
   "version": "3.9.13"
  }
 },
 "nbformat": 4,
 "nbformat_minor": 5
}
