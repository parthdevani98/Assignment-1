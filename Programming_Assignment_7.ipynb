{
 "cells": [
  {
   "cell_type": "markdown",
   "id": "22bd5851",
   "metadata": {},
   "source": [
    "### 1. Write a Python Program to find sum of array?"
   ]
  },
  {
   "cell_type": "code",
   "execution_count": 12,
   "id": "f11297e4",
   "metadata": {},
   "outputs": [
    {
     "name": "stdout",
     "output_type": "stream",
     "text": [
      "Enter the number of element 5\n",
      "1\n",
      "2\n",
      "3\n",
      "4\n",
      "5\n",
      "[1, 2, 3, 4, 5]\n",
      "Sum of array is 15\n"
     ]
    }
   ],
   "source": [
    "def SUM(lst : list) -> int :\n",
    "    \n",
    "    \"\"\"This function returns the total sum of array\"\"\"\n",
    "    \n",
    "    SUM = 0\n",
    "    \n",
    "    for i in lst :\n",
    "        SUM += i\n",
    "    return SUM\n",
    "\n",
    "\n",
    "lst = []\n",
    "\n",
    "n = int(input(\"Enter the number of element \"))\n",
    "        \n",
    "for i in range(0, n):\n",
    "        \n",
    "        ele = int(input())\n",
    "        \n",
    "        lst.append(ele)\n",
    "print(lst)\n",
    "print(f\"Sum of array is {SUM(lst)}\")"
   ]
  },
  {
   "cell_type": "markdown",
   "id": "09cfd714",
   "metadata": {},
   "source": [
    "### 2. Write a Python Program to find largest element in an array?"
   ]
  },
  {
   "cell_type": "code",
   "execution_count": 15,
   "id": "9ab86411",
   "metadata": {},
   "outputs": [
    {
     "name": "stdout",
     "output_type": "stream",
     "text": [
      "Enter the number of element 5\n",
      "10\n",
      "2\n",
      "3\n",
      "6\n",
      "23\n",
      "[10, 2, 3, 6, 23]\n",
      "Largest element in array is 23.\n"
     ]
    }
   ],
   "source": [
    "def LARGEST(lst : list, n : int) -> int :\n",
    "    \n",
    "    \"\"\"This function return the largest element in the array\"\"\"\n",
    "    \n",
    "    max = lst[0]\n",
    "    for i in range(1, n) :\n",
    "        if lst[i] > max :\n",
    "            max = lst[i]\n",
    "    return max\n",
    "        \n",
    "\n",
    "\n",
    "lst = []\n",
    "\n",
    "n = int(input(\"Enter the number of element \"))\n",
    "        \n",
    "for i in range(0, n):\n",
    "        \n",
    "        ele = int(input())\n",
    "        \n",
    "        lst.append(ele)\n",
    "print(lst)\n",
    "print(f\"Largest element in array is {LARGEST(lst,n)}.\")\n"
   ]
  },
  {
   "cell_type": "markdown",
   "id": "0184507a",
   "metadata": {},
   "source": [
    "### 3. Write a Python Program for array rotation?"
   ]
  },
  {
   "cell_type": "code",
   "execution_count": 12,
   "id": "2c013404",
   "metadata": {},
   "outputs": [
    {
     "name": "stdout",
     "output_type": "stream",
     "text": [
      "Enter the number of element 5\n",
      "1\n",
      "2\n",
      "3\n",
      "4\n",
      "5\n",
      "[1, 2, 3, 4, 5]\n",
      "Enter the number of positions to rotate 1\n",
      "Modified list is [2, 3, 4, 5, 1].\n",
      "Modified list is [1, 2, 3, 4, 5].\n"
     ]
    }
   ],
   "source": [
    "def LeftRotate(lst : list, pos : int, n : int) -> list :\n",
    "    \n",
    "    \"\"\"This functions returns the rotated list based on user input\"\"\"\n",
    "    for count in range(pos) :\n",
    "        x = lst[0]\n",
    "        for i in range(1, n) :\n",
    "            lst[i - 1] = lst[i]\n",
    "    lst[n - 1] = x\n",
    "    return lst\n",
    "    \n",
    "def RightRotate(lst : list, pos : int, n : int) -> list :\n",
    "    \n",
    "    \"\"\"This functions returns the rotated list based on user input\"\"\"\n",
    "    for count in range(pos) :\n",
    "        x = lst[n - 1]\n",
    "        for i in range(n - 2, -1, -1) :\n",
    "            lst[i + 1] = lst[i]\n",
    "    lst[0] = x\n",
    "    return lst\n",
    "    \n",
    "lst = []\n",
    "\n",
    "n = int(input(\"Enter the number of element \"))\n",
    "        \n",
    "for i in range(0, n):\n",
    "        \n",
    "        ele = int(input())\n",
    "        \n",
    "        lst.append(ele)\n",
    "print(lst)\n",
    "\n",
    "pos = int(input(\"Enter the number of positions to rotate \"))\n",
    "print(f\"Modified list is {LeftRotate(lst, pos, n)}.\")\n",
    "print(f\"Modified list is {RightRotate(lst, pos, n)}.\")"
   ]
  },
  {
   "cell_type": "markdown",
   "id": "86027843",
   "metadata": {},
   "source": [
    "### 4.Write a Python Program to Split the array and add the first part to the end?"
   ]
  },
  {
   "cell_type": "code",
   "execution_count": 15,
   "id": "87c5083f",
   "metadata": {},
   "outputs": [
    {
     "name": "stdout",
     "output_type": "stream",
     "text": [
      "Enter the number of element 5\n",
      "1\n",
      "2\n",
      "3\n",
      "4\n",
      "5\n",
      "[1, 2, 3, 4, 5]\n",
      "Modified array is = [3, 4, 5, 1, 2].\n"
     ]
    }
   ],
   "source": [
    "def splitArr(arr : list, n : int, k : int) -> list :\n",
    "    \n",
    "    for i in range(0, k):\n",
    "        x = arr[0]\n",
    "        for j in range(0, n-1):\n",
    "            arr[j] = arr[j + 1]\n",
    "        \n",
    "        arr[n-1] = x\n",
    "\n",
    "\n",
    "\n",
    "arr = []\n",
    "\n",
    "size = int(input(\"Enter the number of element \"))\n",
    "        \n",
    "for i in range(0, size):\n",
    "        \n",
    "        ele = int(input())\n",
    "        \n",
    "        arr.append(ele)\n",
    "print(arr)\n",
    "n = len(arr)\n",
    "position = 2\n",
    "\n",
    "splitArr(arr, n, position)\n",
    "print(f\"Modified array is = {arr}.\")\n",
    "\n"
   ]
  },
  {
   "cell_type": "markdown",
   "id": "db5a8001",
   "metadata": {},
   "source": [
    "### 5. Write a Python Program to check if given array is Monotonic?"
   ]
  },
  {
   "cell_type": "code",
   "execution_count": 30,
   "id": "48850080",
   "metadata": {},
   "outputs": [
    {
     "name": "stdout",
     "output_type": "stream",
     "text": [
      "Enter the number of element 4\n",
      "6\n",
      "5\n",
      "4\n",
      "10\n",
      "[6, 5, 4, 10]\n",
      "False\n"
     ]
    }
   ],
   "source": [
    "def isMonotonic(lst : list) -> bool :\n",
    "    x, y = [], []\n",
    "    x.extend(lst)\n",
    "    y.extend(lst)\n",
    "    x.sort()\n",
    "    y.sort(reverse=True)\n",
    "    if(x == lst or y == lst):\n",
    "        return True\n",
    "    return False\n",
    "\n",
    "\n",
    "\n",
    "\n",
    "lst = []\n",
    "\n",
    "n = int(input(\"Enter the number of element \"))\n",
    "        \n",
    "for i in range(0, n):\n",
    "        \n",
    "        ele = int(input())\n",
    "        \n",
    "        lst.append(ele)\n",
    "print(lst)\n",
    "print(isMonotonic(lst))\n"
   ]
  }
 ],
 "metadata": {
  "kernelspec": {
   "display_name": "Python 3 (ipykernel)",
   "language": "python",
   "name": "python3"
  },
  "language_info": {
   "codemirror_mode": {
    "name": "ipython",
    "version": 3
   },
   "file_extension": ".py",
   "mimetype": "text/x-python",
   "name": "python",
   "nbconvert_exporter": "python",
   "pygments_lexer": "ipython3",
   "version": "3.9.13"
  }
 },
 "nbformat": 4,
 "nbformat_minor": 5
}
